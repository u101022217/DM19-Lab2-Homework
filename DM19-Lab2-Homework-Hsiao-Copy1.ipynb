{
 "cells": [
  {
   "cell_type": "markdown",
   "metadata": {},
   "source": [
    "### Student Information\n",
    "Name: 蕭棋鴻\n",
    "\n",
    "Student ID: 107062657\n",
    "\n",
    "GitHub ID: u101022217\n",
    "\n",
    "Kaggle name: Hsiao Chi Hung\n",
    "\n",
    "Kaggle private scoreboard snapshot:\n",
    "\n",
    "[Snapshot](snap-shot-kaggle-Hsiao.png)"
   ]
  },
  {
   "cell_type": "markdown",
   "metadata": {},
   "source": [
    "---"
   ]
  },
  {
   "cell_type": "markdown",
   "metadata": {},
   "source": [
    "### Instructions"
   ]
  },
  {
   "cell_type": "markdown",
   "metadata": {},
   "source": [
    "1. First: __This part is worth 30% of your grade.__ Do the **take home** exercises in the [DM19-Lab2-Master Repo](https://github.com/EvaArevalo/DM19-Lab2-Master). You may need to copy some cells from the Lab notebook to this notebook. \n",
    "\n",
    "\n",
    "2. Second: __This part is worth 30% of your grade.__ Participate in the in-class [Kaggle Competition](https://www.kaggle.com/t/179d01d4dd984fc5ac45a894822479dd) regarding Emotion Recognition on Twitter. The scoring will be given according to your place in the Private Leaderboard ranking: \n",
    "    - **Bottom 40%**: Get 20% of the score (ie. 20% of 30% )\n",
    "\n",
    "    - **Top 41% - 100%**: Get (101-x)% of the score, where x is your ranking in the leaderboard (ie. (101-x)% of 30% )   \n",
    "    Submit your last submission __BEFORE the deadline (Nov. 23rd 11:59 pm, Saturday)__. Make sure to take a screenshot of your position at the end of the competition and store it as '''pic0.png''' under the **img** folder of this repository and rerun the cell **Student Information**.\n",
    "    \n",
    "\n",
    "3. Third: __This part is worth 30% of your grade.__ A report of your work developping the model for the competition (You can use code and comment it). This report should include what your preprocessing steps, the feature engineering steps and an explanation of your model. You can also mention different things you tried and insights you gained. \n",
    "\n",
    "\n",
    "4. Fourth: __This part is worth 10% of your grade.__ It's hard for us to follow if your code is messy :'(, so please **tidy up your notebook** and **add minimal comments where needed**.\n",
    "\n",
    "\n",
    "You can submit your homework following these guidelines: [Git Intro & How to hand your homework](https://github.com/EvaArevalo/DM19-Lab1-Master/blob/master/Git%20Intro%20%26%20How%20to%20hand%20your%20homework.ipynb), but make sure to fork the [DM19-Lab2-Homework](https://github.com/EvaArevalo/DM19-Lab2-Homework) repository this time! Also please __DON´T UPLOAD HUGE DOCUMENTS__, please use Git ignore for that.\n",
    "\n",
    "Make sure to commit and save your changes to your repository __BEFORE the deadline (Nov. 26th 11:59 pm, Tuesday)__. "
   ]
  },
  {
   "cell_type": "markdown",
   "metadata": {},
   "source": [
    "# Exercise"
   ]
  },
  {
   "cell_type": "code",
   "execution_count": 1,
   "metadata": {
    "ExecuteTime": {
     "end_time": "2019-12-24T08:22:25.033155Z",
     "start_time": "2019-12-24T08:22:24.799677Z"
    }
   },
   "outputs": [],
   "source": [
    "import pandas as pd\n",
    "\n",
    "### training data\n",
    "anger_train = pd.read_csv(\"data/semeval/train/anger-ratings-0to1.train.txt\",\n",
    "                         sep=\"\\t\", header=None,names=[\"id\", \"text\", \"emotion\", \"intensity\"])\n",
    "sadness_train = pd.read_csv(\"data/semeval/train/sadness-ratings-0to1.train.txt\",\n",
    "                         sep=\"\\t\", header=None, names=[\"id\", \"text\", \"emotion\", \"intensity\"])\n",
    "fear_train = pd.read_csv(\"data/semeval/train/fear-ratings-0to1.train.txt\",\n",
    "                         sep=\"\\t\", header=None, names=[\"id\", \"text\", \"emotion\", \"intensity\"])\n",
    "joy_train = pd.read_csv(\"data/semeval/train/joy-ratings-0to1.train.txt\",\n",
    "                         sep=\"\\t\", header=None, names=[\"id\", \"text\", \"emotion\", \"intensity\"])"
   ]
  },
  {
   "cell_type": "code",
   "execution_count": 2,
   "metadata": {
    "ExecuteTime": {
     "end_time": "2019-12-24T08:22:25.037521Z",
     "start_time": "2019-12-24T08:22:25.034333Z"
    }
   },
   "outputs": [],
   "source": [
    "# combine 4 sub-dataset\n",
    "train_df = pd.concat([anger_train, fear_train, joy_train, sadness_train], ignore_index=True)"
   ]
  },
  {
   "cell_type": "code",
   "execution_count": 3,
   "metadata": {
    "ExecuteTime": {
     "end_time": "2019-12-24T08:22:25.054598Z",
     "start_time": "2019-12-24T08:22:25.038553Z"
    }
   },
   "outputs": [
    {
     "data": {
      "text/html": [
       "<div>\n",
       "<style scoped>\n",
       "    .dataframe tbody tr th:only-of-type {\n",
       "        vertical-align: middle;\n",
       "    }\n",
       "\n",
       "    .dataframe tbody tr th {\n",
       "        vertical-align: top;\n",
       "    }\n",
       "\n",
       "    .dataframe thead th {\n",
       "        text-align: right;\n",
       "    }\n",
       "</style>\n",
       "<table border=\"1\" class=\"dataframe\">\n",
       "  <thead>\n",
       "    <tr style=\"text-align: right;\">\n",
       "      <th></th>\n",
       "      <th>id</th>\n",
       "      <th>text</th>\n",
       "      <th>emotion</th>\n",
       "      <th>intensity</th>\n",
       "    </tr>\n",
       "  </thead>\n",
       "  <tbody>\n",
       "    <tr>\n",
       "      <th>0</th>\n",
       "      <td>10000</td>\n",
       "      <td>How the fu*k! Who the heck! moved my fridge!.....</td>\n",
       "      <td>anger</td>\n",
       "      <td>0.938</td>\n",
       "    </tr>\n",
       "    <tr>\n",
       "      <th>1</th>\n",
       "      <td>10001</td>\n",
       "      <td>So my Indian Uber driver just called someone t...</td>\n",
       "      <td>anger</td>\n",
       "      <td>0.896</td>\n",
       "    </tr>\n",
       "    <tr>\n",
       "      <th>2</th>\n",
       "      <td>10002</td>\n",
       "      <td>@DPD_UK I asked for my parcel to be delivered ...</td>\n",
       "      <td>anger</td>\n",
       "      <td>0.896</td>\n",
       "    </tr>\n",
       "    <tr>\n",
       "      <th>3</th>\n",
       "      <td>10003</td>\n",
       "      <td>so ef whichever butt wipe pulled the fire alar...</td>\n",
       "      <td>anger</td>\n",
       "      <td>0.896</td>\n",
       "    </tr>\n",
       "    <tr>\n",
       "      <th>4</th>\n",
       "      <td>10004</td>\n",
       "      <td>Don't join @BTCare they put the phone down on ...</td>\n",
       "      <td>anger</td>\n",
       "      <td>0.896</td>\n",
       "    </tr>\n",
       "  </tbody>\n",
       "</table>\n",
       "</div>"
      ],
      "text/plain": [
       "      id                                               text emotion  intensity\n",
       "0  10000  How the fu*k! Who the heck! moved my fridge!.....   anger      0.938\n",
       "1  10001  So my Indian Uber driver just called someone t...   anger      0.896\n",
       "2  10002  @DPD_UK I asked for my parcel to be delivered ...   anger      0.896\n",
       "3  10003  so ef whichever butt wipe pulled the fire alar...   anger      0.896\n",
       "4  10004  Don't join @BTCare they put the phone down on ...   anger      0.896"
      ]
     },
     "execution_count": 3,
     "metadata": {},
     "output_type": "execute_result"
    }
   ],
   "source": [
    "### testing data\n",
    "anger_test = pd.read_csv(\"data/semeval/dev/anger-ratings-0to1.dev.gold.txt\",\n",
    "                         sep=\"\\t\", header=None, names=[\"id\", \"text\", \"emotion\", \"intensity\"])\n",
    "sadness_test = pd.read_csv(\"data/semeval/dev/sadness-ratings-0to1.dev.gold.txt\",\n",
    "                         sep=\"\\t\", header=None, names=[\"id\", \"text\", \"emotion\", \"intensity\"])\n",
    "fear_test = pd.read_csv(\"data/semeval/dev/fear-ratings-0to1.dev.gold.txt\",\n",
    "                         sep=\"\\t\", header=None, names=[\"id\", \"text\", \"emotion\", \"intensity\"])\n",
    "joy_test = pd.read_csv(\"data/semeval/dev/joy-ratings-0to1.dev.gold.txt\",\n",
    "                         sep=\"\\t\", header=None, names=[\"id\", \"text\", \"emotion\", \"intensity\"])\n",
    "\n",
    "# combine 4 sub-dataset\n",
    "test_df = pd.concat([anger_test, fear_test, joy_test, sadness_test], ignore_index=True)\n",
    "train_df.head()"
   ]
  },
  {
   "cell_type": "code",
   "execution_count": 4,
   "metadata": {
    "ExecuteTime": {
     "end_time": "2019-12-24T08:22:25.058054Z",
     "start_time": "2019-12-24T08:22:25.055555Z"
    }
   },
   "outputs": [],
   "source": [
    "# shuffle dataset\n",
    "train_df = train_df.sample(frac=1)\n",
    "test_df = test_df.sample(frac=1)"
   ]
  },
  {
   "cell_type": "markdown",
   "metadata": {},
   "source": [
    "# ** >>> Exercise 1 (Take home): **\n",
    "Plot word frequency for Top 30 words in both train and test dataset. (Hint: refer to DM lab 1)"
   ]
  },
  {
   "cell_type": "code",
   "execution_count": 5,
   "metadata": {
    "ExecuteTime": {
     "end_time": "2019-12-24T08:22:25.188835Z",
     "start_time": "2019-12-24T08:22:25.058905Z"
    }
   },
   "outputs": [],
   "source": [
    "# Answer here\n",
    "kk = train_df.text.str.split(expand=True).stack().value_counts()\n",
    "\n",
    "ax = kk[:30].plot.bar(x='lab', y='val', rot=90)"
   ]
  },
  {
   "cell_type": "code",
   "execution_count": 6,
   "metadata": {
    "ExecuteTime": {
     "end_time": "2019-12-24T08:22:25.340468Z",
     "start_time": "2019-12-24T08:22:25.190036Z"
    }
   },
   "outputs": [
    {
     "data": {
      "image/png": "[encoded data removed]",
      "text/plain": [
       "<Figure size 432x288 with 1 Axes>"
      ]
     },
     "metadata": {
      "needs_background": "light"
     },
     "output_type": "display_data"
    }
   ],
   "source": [
    "tkk = test_df.text.str.split(expand=True).stack().value_counts()\n",
    "tkk[:30]\n",
    "ax = tkk[:30].plot.bar(x='lab', y='val', rot=90)"
   ]
  },
  {
   "cell_type": "code",
   "execution_count": 7,
   "metadata": {
    "ExecuteTime": {
     "end_time": "2019-12-24T08:22:25.344381Z",
     "start_time": "2019-12-24T08:22:25.341582Z"
    }
   },
   "outputs": [
    {
     "data": {
      "text/plain": [
       "the     138\n",
       "to      135\n",
       "I       118\n",
       "a       103\n",
       "and      89\n",
       "of       80\n",
       "is       72\n",
       "in       65\n",
       "you      59\n",
       "for      53\n",
       "my       48\n",
       "it       45\n",
       "on       42\n",
       "that     39\n",
       "be       37\n",
       "was      32\n",
       "with     29\n",
       "have     28\n",
       "at       27\n",
       "get      25\n",
       "so       24\n",
       "are      24\n",
       "all      24\n",
       "your     24\n",
       "just     23\n",
       "me       22\n",
       "will     22\n",
       "like     22\n",
       "i        22\n",
       "but      21\n",
       "dtype: int64"
      ]
     },
     "execution_count": 7,
     "metadata": {},
     "output_type": "execute_result"
    }
   ],
   "source": [
    "tkk[:30]"
   ]
  },
  {
   "cell_type": "code",
   "execution_count": 8,
   "metadata": {
    "ExecuteTime": {
     "end_time": "2019-12-24T08:22:25.349109Z",
     "start_time": "2019-12-24T08:22:25.345270Z"
    }
   },
   "outputs": [],
   "source": [
    "## save to pickle file\n",
    "train_df.to_pickle(\"train_df.pkl\") \n",
    "test_df.to_pickle(\"test_df.pkl\")"
   ]
  },
  {
   "cell_type": "code",
   "execution_count": 9,
   "metadata": {
    "ExecuteTime": {
     "end_time": "2019-12-24T08:22:25.353372Z",
     "start_time": "2019-12-24T08:22:25.349969Z"
    }
   },
   "outputs": [],
   "source": [
    "import pandas as pd\n",
    "\n",
    "## load a pickle file\n",
    "train_df = pd.read_pickle(\"train_df.pkl\")\n",
    "test_df = pd.read_pickle(\"test_df.pkl\")"
   ]
  },
  {
   "cell_type": "markdown",
   "metadata": {
    "ExecuteTime": {
     "end_time": "2019-12-24T08:00:21.202929Z",
     "start_time": "2019-12-24T08:00:21.194339Z"
    }
   },
   "source": [
    "\n",
    "### ** >>> Exercise 2 (Take home): **  \n",
    "Generate an embedding using the TF-IDF vectorizer instead of th BOW one with 1000 features and show the feature names for features [100:110]."
   ]
  },
  {
   "cell_type": "code",
   "execution_count": 10,
   "metadata": {
    "ExecuteTime": {
     "end_time": "2019-12-24T08:22:25.559239Z",
     "start_time": "2019-12-24T08:22:25.354242Z"
    }
   },
   "outputs": [
    {
     "data": {
      "text/plain": [
       "(3613, 1000)"
      ]
     },
     "execution_count": 10,
     "metadata": {},
     "output_type": "execute_result"
    }
   ],
   "source": [
    "# Answer here\n",
    "\n",
    "from sklearn import feature_extraction\n",
    "from sklearn.feature_extraction.text import TfidfTransformer\n",
    "from sklearn.feature_extraction.text import CountVectorizer\n",
    "\n",
    "TF_IDF_1000 = CountVectorizer(max_features=1000)\n",
    "tfidf = TF_IDF_1000.fit_transform(train_df['text'])\n",
    "\n",
    "tfidf.shape"
   ]
  },
  {
   "cell_type": "code",
   "execution_count": 11,
   "metadata": {
    "ExecuteTime": {
     "end_time": "2019-12-24T08:22:25.565875Z",
     "start_time": "2019-12-24T08:22:25.560315Z"
    }
   },
   "outputs": [
    {
     "data": {
      "text/plain": [
       "array([[0, 0, 0, ..., 0, 0, 0],\n",
       "       [0, 0, 0, ..., 0, 0, 0],\n",
       "       [0, 0, 0, ..., 0, 0, 0],\n",
       "       ...,\n",
       "       [0, 0, 0, ..., 0, 0, 0],\n",
       "       [0, 0, 0, ..., 0, 0, 0],\n",
       "       [0, 0, 0, ..., 0, 0, 0]], dtype=int64)"
      ]
     },
     "execution_count": 11,
     "metadata": {},
     "output_type": "execute_result"
    }
   ],
   "source": [
    "tfidf_transformer=TfidfTransformer(smooth_idf=True,use_idf=True)\n",
    "tfidf_transformer.fit(tfidf)\n",
    "tfidf.toarray()"
   ]
  },
  {
   "cell_type": "code",
   "execution_count": 12,
   "metadata": {
    "ExecuteTime": {
     "end_time": "2019-12-24T08:22:25.573067Z",
     "start_time": "2019-12-24T08:22:25.567024Z"
    }
   },
   "outputs": [
    {
     "data": {
      "text/html": [
       "<div>\n",
       "<style scoped>\n",
       "    .dataframe tbody tr th:only-of-type {\n",
       "        vertical-align: middle;\n",
       "    }\n",
       "\n",
       "    .dataframe tbody tr th {\n",
       "        vertical-align: top;\n",
       "    }\n",
       "\n",
       "    .dataframe thead th {\n",
       "        text-align: right;\n",
       "    }\n",
       "</style>\n",
       "<table border=\"1\" class=\"dataframe\">\n",
       "  <thead>\n",
       "    <tr style=\"text-align: right;\">\n",
       "      <th></th>\n",
       "      <th>idf_weights</th>\n",
       "    </tr>\n",
       "  </thead>\n",
       "  <tbody>\n",
       "    <tr>\n",
       "      <th>bitter</th>\n",
       "      <td>5.342423</td>\n",
       "    </tr>\n",
       "    <tr>\n",
       "      <th>black</th>\n",
       "      <td>5.791373</td>\n",
       "    </tr>\n",
       "    <tr>\n",
       "      <th>blacks</th>\n",
       "      <td>7.113129</td>\n",
       "    </tr>\n",
       "    <tr>\n",
       "      <th>blame</th>\n",
       "      <td>6.707664</td>\n",
       "    </tr>\n",
       "    <tr>\n",
       "      <th>blessed</th>\n",
       "      <td>6.889985</td>\n",
       "    </tr>\n",
       "    <tr>\n",
       "      <th>blood</th>\n",
       "      <td>6.794675</td>\n",
       "    </tr>\n",
       "    <tr>\n",
       "      <th>bloody</th>\n",
       "      <td>6.995346</td>\n",
       "    </tr>\n",
       "    <tr>\n",
       "      <th>blues</th>\n",
       "      <td>5.825275</td>\n",
       "    </tr>\n",
       "    <tr>\n",
       "      <th>body</th>\n",
       "      <td>6.889985</td>\n",
       "    </tr>\n",
       "    <tr>\n",
       "      <th>boiling</th>\n",
       "      <td>6.302199</td>\n",
       "    </tr>\n",
       "  </tbody>\n",
       "</table>\n",
       "</div>"
      ],
      "text/plain": [
       "         idf_weights\n",
       "bitter      5.342423\n",
       "black       5.791373\n",
       "blacks      7.113129\n",
       "blame       6.707664\n",
       "blessed     6.889985\n",
       "blood       6.794675\n",
       "bloody      6.995346\n",
       "blues       5.825275\n",
       "body        6.889985\n",
       "boiling     6.302199"
      ]
     },
     "execution_count": 12,
     "metadata": {},
     "output_type": "execute_result"
    }
   ],
   "source": [
    "# print idf values\n",
    "df_idf = pd.DataFrame(tfidf_transformer.idf_, index=TF_IDF_1000.get_feature_names(),columns=[\"idf_weights\"])\n",
    " \n",
    "# sort ascending\n",
    "df_idf.sort_values(by=['idf_weights'])\n",
    "df_idf[100:110]"
   ]
  },
  {
   "cell_type": "code",
   "execution_count": 13,
   "metadata": {
    "ExecuteTime": {
     "end_time": "2019-12-24T08:22:26.637957Z",
     "start_time": "2019-12-24T08:22:25.574061Z"
    }
   },
   "outputs": [
    {
     "data": {
      "text/plain": [
       "(3613, 500)"
      ]
     },
     "execution_count": 13,
     "metadata": {},
     "output_type": "execute_result"
    }
   ],
   "source": [
    "import nltk\n",
    "\n",
    "# build analyzers (bag-of-words)\n",
    "BOW_500 = CountVectorizer(max_features=500, tokenizer=nltk.word_tokenize) \n",
    "\n",
    "# apply analyzer to training data\n",
    "BOW_500.fit(train_df['text'])\n",
    "\n",
    "train_data_BOW_features_500 = BOW_500.transform(train_df['text'])\n",
    "\n",
    "## check dimension\n",
    "train_data_BOW_features_500.shape"
   ]
  },
  {
   "cell_type": "code",
   "execution_count": 14,
   "metadata": {
    "ExecuteTime": {
     "end_time": "2019-12-24T08:22:27.159845Z",
     "start_time": "2019-12-24T08:22:26.638892Z"
    }
   },
   "outputs": [
    {
     "name": "stdout",
     "output_type": "stream",
     "text": [
      "X_train.shape:  (3613, 500)\n",
      "y_train.shape:  (3613,)\n",
      "X_test.shape:  (347, 500)\n",
      "y_test.shape:  (347,)\n"
     ]
    }
   ],
   "source": [
    "from sklearn.tree import DecisionTreeClassifier\n",
    "\n",
    "# for a classificaiton problem, you need to provide both training & testing data\n",
    "X_train = BOW_500.transform(train_df['text'])\n",
    "y_train = train_df['emotion']\n",
    "\n",
    "X_test = BOW_500.transform(test_df['text'])\n",
    "y_test = test_df['emotion']\n",
    "\n",
    "## take a look at data dimension is a good habbit  :)\n",
    "print('X_train.shape: ', X_train.shape)\n",
    "print('y_train.shape: ', y_train.shape)\n",
    "print('X_test.shape: ', X_test.shape)\n",
    "print('y_test.shape: ', y_test.shape)"
   ]
  },
  {
   "cell_type": "code",
   "execution_count": 15,
   "metadata": {
    "ExecuteTime": {
     "end_time": "2019-12-24T08:22:27.260392Z",
     "start_time": "2019-12-24T08:22:27.160945Z"
    }
   },
   "outputs": [
    {
     "data": {
      "text/plain": [
       "array(['sadness', 'joy', 'joy', 'joy', 'anger', 'fear', 'sadness', 'fear',\n",
       "       'fear', 'fear'], dtype=object)"
      ]
     },
     "execution_count": 15,
     "metadata": {},
     "output_type": "execute_result"
    }
   ],
   "source": [
    "## build DecisionTree model\n",
    "DT_model = DecisionTreeClassifier(random_state=0)\n",
    "\n",
    "## training!\n",
    "DT_model = DT_model.fit(X_train, y_train)\n",
    "\n",
    "## predict!\n",
    "y_train_pred = DT_model.predict(X_train)\n",
    "y_test_pred = DT_model.predict(X_test)\n",
    "\n",
    "## so we get the pred result\n",
    "y_test_pred[:10]"
   ]
  },
  {
   "cell_type": "code",
   "execution_count": 16,
   "metadata": {
    "ExecuteTime": {
     "end_time": "2019-12-24T08:22:27.266246Z",
     "start_time": "2019-12-24T08:22:27.261325Z"
    }
   },
   "outputs": [
    {
     "name": "stdout",
     "output_type": "stream",
     "text": [
      "training accuracy: 0.99\n",
      "testing accuracy: 0.66\n"
     ]
    }
   ],
   "source": [
    "## accuracy\n",
    "from sklearn.metrics import accuracy_score\n",
    "\n",
    "acc_train = accuracy_score(y_true=y_train, y_pred=y_train_pred)\n",
    "acc_test = accuracy_score(y_true=y_test, y_pred=y_test_pred)\n",
    "\n",
    "print('training accuracy: {}'.format(round(acc_train, 2)))\n",
    "print('testing accuracy: {}'.format(round(acc_test, 2)))"
   ]
  },
  {
   "cell_type": "code",
   "execution_count": 17,
   "metadata": {
    "ExecuteTime": {
     "end_time": "2019-12-24T08:22:27.273082Z",
     "start_time": "2019-12-24T08:22:27.267086Z"
    }
   },
   "outputs": [
    {
     "name": "stdout",
     "output_type": "stream",
     "text": [
      "              precision    recall  f1-score   support\n",
      "\n",
      "       anger       0.70      0.68      0.69        84\n",
      "        fear       0.68      0.68      0.68       110\n",
      "         joy       0.62      0.67      0.65        79\n",
      "     sadness       0.63      0.59      0.61        74\n",
      "\n",
      "   micro avg       0.66      0.66      0.66       347\n",
      "   macro avg       0.66      0.66      0.66       347\n",
      "weighted avg       0.66      0.66      0.66       347\n",
      "\n"
     ]
    }
   ],
   "source": [
    "## precision, recall, f1-score,\n",
    "from sklearn.metrics import classification_report\n",
    "\n",
    "print(classification_report(y_true=y_test, y_pred=y_test_pred))"
   ]
  },
  {
   "cell_type": "code",
   "execution_count": 18,
   "metadata": {
    "ExecuteTime": {
     "end_time": "2019-12-24T08:22:27.289240Z",
     "start_time": "2019-12-24T08:22:27.273923Z"
    }
   },
   "outputs": [],
   "source": [
    "## check by confusion matrix\n",
    "from sklearn.metrics import confusion_matrix\n",
    "\n",
    "cm = confusion_matrix(y_true=y_test, y_pred=y_test_pred) \n",
    "# print(cm)\n",
    "\n",
    "# Funciton for visualizing confusion_matrix\n",
    "import matplotlib.pyplot as plt\n",
    "import seaborn as sns\n",
    "import numpy as np\n",
    "import itertools\n",
    "\n",
    "def plot_confusion_matrix(cm, classes, title='Confusion matrix',\n",
    "                          cmap=sns.cubehelix_palette(as_cmap=True)):\n",
    "    \"\"\"\n",
    "    This function is modified from: \n",
    "    http://scikit-learn.org/stable/auto_examples/model_selection/plot_confusion_matrix.html\n",
    "    \"\"\"\n",
    "    classes.sort()\n",
    "    tick_marks = np.arange(len(classes))    \n",
    "    \n",
    "    fig, ax = plt.subplots(figsize=(5,5))\n",
    "    im = ax.imshow(cm, interpolation='nearest', cmap=cmap)\n",
    "    ax.figure.colorbar(im, ax=ax)\n",
    "    ax.set(xticks=np.arange(cm.shape[1]),\n",
    "           yticks=np.arange(cm.shape[0]),\n",
    "           xticklabels = classes,\n",
    "           yticklabels = classes,\n",
    "           title = title,\n",
    "           xlabel = 'True label',\n",
    "           ylabel = 'Predicted label')\n",
    "\n",
    "    fmt = 'd'\n",
    "    thresh = cm.max() / 2.\n",
    "    for i, j in itertools.product(range(cm.shape[0]), range(cm.shape[1])):\n",
    "        plt.text(j, i, format(cm[i, j], fmt), horizontalalignment=\"center\", color=\"white\" if cm[i, j] > thresh else \"black\")\n",
    "    ylim_top = len(classes) - 0.5\n",
    "    plt.ylim([ylim_top, -.5])\n",
    "    plt.tight_layout()\n",
    "    plt.show()"
   ]
  },
  {
   "cell_type": "code",
   "execution_count": 19,
   "metadata": {
    "ExecuteTime": {
     "end_time": "2019-12-24T08:22:27.392583Z",
     "start_time": "2019-12-24T08:22:27.290227Z"
    }
   },
   "outputs": [
    {
     "data": {
      "image/png": "[encoded data removed]",
      "text/plain": [
       "<Figure size 360x360 with 2 Axes>"
      ]
     },
     "metadata": {
      "needs_background": "light"
     },
     "output_type": "display_data"
    }
   ],
   "source": [
    "# plot your confusion matrix\n",
    "my_tags = ['anger', 'fear', 'joy', 'sadness']\n",
    "plot_confusion_matrix(cm, classes=my_tags, title='Confusion matrix')"
   ]
  },
  {
   "cell_type": "markdown",
   "metadata": {},
   "source": [
    "---\n",
    "### ** >>> Exercise 3 (Take home): **  \n",
    "Can you interpret the results above? What do they mean?"
   ]
  },
  {
   "cell_type": "markdown",
   "metadata": {},
   "source": [
    "#The correct-rate of the 'anger' prediction is  57/84 = 0.678\n",
    "#The correct-rate of the 'fear' prediction is  75/110 = 0.6818\n",
    "#The correct-rate of the 'joy' prediction is  53/116 = 0.456\n",
    "#The correct-rate of the 'sadness' prediction is  44/74 = 0.594"
   ]
  },
  {
   "cell_type": "markdown",
   "metadata": {},
   "source": [
    "---\n",
    "### ** >>> Exercise 4 (Take home): **  \n",
    "Build a model using a ```Naive Bayes``` model and train it. What are the testing results? \n",
    "\n",
    "*Reference*: https://scikit-learn.org/stable/modules/generated/sklearn.naive_bayes.MultinomialNB.html"
   ]
  },
  {
   "cell_type": "code",
   "execution_count": 20,
   "metadata": {
    "ExecuteTime": {
     "end_time": "2019-12-24T08:22:27.921825Z",
     "start_time": "2019-12-24T08:22:27.393704Z"
    }
   },
   "outputs": [
    {
     "name": "stdout",
     "output_type": "stream",
     "text": [
      "X_train.shape:  (3613, 500)\n",
      "y_train.shape:  (3613,)\n",
      "X_test.shape:  (347, 500)\n",
      "y_test.shape:  (347,)\n"
     ]
    }
   ],
   "source": [
    "# Answer here\n",
    "# for a classificaiton problem, you need to provide both training & testing data\n",
    "X_train = BOW_500.transform(train_df['text'])\n",
    "y_train = train_df['emotion']\n",
    "\n",
    "X_test = BOW_500.transform(test_df['text'])\n",
    "y_test = test_df['emotion']\n",
    "\n",
    "## take a look at data dimension is a good habbit  :)\n",
    "print('X_train.shape: ', X_train.shape)\n",
    "print('y_train.shape: ', y_train.shape)\n",
    "print('X_test.shape: ', X_test.shape)\n",
    "print('y_test.shape: ', y_test.shape)"
   ]
  },
  {
   "cell_type": "code",
   "execution_count": 21,
   "metadata": {
    "ExecuteTime": {
     "end_time": "2019-12-24T08:22:27.931914Z",
     "start_time": "2019-12-24T08:22:27.922861Z"
    }
   },
   "outputs": [
    {
     "data": {
      "text/plain": [
       "MultinomialNB(alpha=1.0, class_prior=None, fit_prior=True)"
      ]
     },
     "execution_count": 21,
     "metadata": {},
     "output_type": "execute_result"
    }
   ],
   "source": [
    "from sklearn.naive_bayes import MultinomialNB\n",
    "model = MultinomialNB()\n",
    "\n",
    "model.fit(X_train,y_train)"
   ]
  },
  {
   "cell_type": "code",
   "execution_count": 22,
   "metadata": {
    "ExecuteTime": {
     "end_time": "2019-12-24T08:22:27.935634Z",
     "start_time": "2019-12-24T08:22:27.932742Z"
    }
   },
   "outputs": [
    {
     "data": {
      "text/plain": [
       "array(['sadness', 'joy', 'joy', 'fear', 'anger', 'fear', 'fear', 'fear',\n",
       "       'fear', 'fear'], dtype='<U7')"
      ]
     },
     "execution_count": 22,
     "metadata": {},
     "output_type": "execute_result"
    }
   ],
   "source": [
    "## predict!\n",
    "y_train_pred = model.predict(X_train)\n",
    "y_test_pred = model.predict(X_test)\n",
    "\n",
    "## so we get the pred result\n",
    "y_test_pred[:10]"
   ]
  },
  {
   "cell_type": "code",
   "execution_count": 23,
   "metadata": {
    "ExecuteTime": {
     "end_time": "2019-12-24T08:22:27.940826Z",
     "start_time": "2019-12-24T08:22:27.936495Z"
    }
   },
   "outputs": [
    {
     "name": "stdout",
     "output_type": "stream",
     "text": [
      "training accuracy: 0.79\n",
      "testing accuracy: 0.71\n"
     ]
    }
   ],
   "source": [
    "## accuracy\n",
    "from sklearn.metrics import accuracy_score\n",
    "\n",
    "acc_train_n = accuracy_score(y_true=y_train, y_pred=y_train_pred)\n",
    "acc_test_n = accuracy_score(y_true=y_test, y_pred=y_test_pred)\n",
    "\n",
    "print('training accuracy: {}'.format(round(acc_train_n, 2)))\n",
    "print('testing accuracy: {}'.format(round(acc_test_n, 2)))"
   ]
  },
  {
   "cell_type": "markdown",
   "metadata": {},
   "source": [
    "---\n",
    "### ** >>> Exercise 5 (Take home): **  \n",
    "\n",
    "How do the results from the Naive Bayes model and the Decision Tree model compare? How do you interpret these differences? Use the theoretical background covered in class to try and explain these differences."
   ]
  },
  {
   "cell_type": "code",
   "execution_count": 24,
   "metadata": {
    "ExecuteTime": {
     "end_time": "2019-12-24T08:22:27.943994Z",
     "start_time": "2019-12-24T08:22:27.941756Z"
    }
   },
   "outputs": [
    {
     "name": "stdout",
     "output_type": "stream",
     "text": [
      "Naive Bayes:\n",
      "training accuracy: 0.79\n",
      "testing accuracy: 0.71\n",
      "Decision Tree: \n",
      "training accuracy: 0.99\n",
      "testing accuracy: 0.66\n"
     ]
    }
   ],
   "source": [
    "print('Naive Bayes:')\n",
    "print('training accuracy: {}'.format(round(acc_train_n, 2)))\n",
    "print('testing accuracy: {}'.format(round(acc_test_n, 2)))\n",
    "print('Decision Tree: ')\n",
    "print('training accuracy: {}'.format(round(acc_train, 2)))\n",
    "print('testing accuracy: {}'.format(round(acc_test, 2)))"
   ]
  },
  {
   "cell_type": "markdown",
   "metadata": {},
   "source": [
    "answer here\n",
    "\n",
    "The training accuracy is Decision Tree higher, though the test accuracy is Naive Bayes higher.\n",
    "Decision tree may neglect some key values in training data, which can lead the accuracy for a loss."
   ]
  },
  {
   "cell_type": "markdown",
   "metadata": {},
   "source": [
    "# -------------------------------------------------------"
   ]
  },
  {
   "cell_type": "code",
   "execution_count": 25,
   "metadata": {
    "ExecuteTime": {
     "end_time": "2019-12-24T08:22:29.231535Z",
     "start_time": "2019-12-24T08:22:27.944707Z"
    }
   },
   "outputs": [
    {
     "name": "stderr",
     "output_type": "stream",
     "text": [
      "Using TensorFlow backend.\n"
     ]
    },
    {
     "name": "stdout",
     "output_type": "stream",
     "text": [
      "X_train.shape:  (3613, 500)\n",
      "y_train.shape:  (3613,)\n",
      "X_test.shape:  (347, 500)\n",
      "y_test.shape:  (347,)\n"
     ]
    }
   ],
   "source": [
    "import keras\n",
    "\n",
    "# standardize name (X, y) \n",
    "X_train = BOW_500.transform(train_df['text'])\n",
    "y_train = train_df['emotion']\n",
    "\n",
    "X_test = BOW_500.transform(test_df['text'])\n",
    "y_test = test_df['emotion']\n",
    "\n",
    "## check dimension is a good habbit \n",
    "print('X_train.shape: ', X_train.shape)\n",
    "print('y_train.shape: ', y_train.shape)\n",
    "print('X_test.shape: ', X_test.shape)\n",
    "print('y_test.shape: ', y_test.shape)"
   ]
  },
  {
   "cell_type": "code",
   "execution_count": 26,
   "metadata": {
    "ExecuteTime": {
     "end_time": "2019-12-24T08:22:29.239874Z",
     "start_time": "2019-12-24T08:22:29.232604Z"
    }
   },
   "outputs": [
    {
     "name": "stdout",
     "output_type": "stream",
     "text": [
      "check label:  ['anger' 'fear' 'joy' 'sadness']\n",
      "\n",
      "## Before convert\n",
      "y_train[0:4]:\n",
      " 454       anger\n",
      "3200    sadness\n",
      "414       anger\n",
      "1568       fear\n",
      "Name: emotion, dtype: object\n",
      "\n",
      "y_train.shape:  (3613,)\n",
      "y_test.shape:  (347,)\n",
      "\n",
      "\n",
      "## After convert\n",
      "y_train[0:4]:\n",
      " [[1. 0. 0. 0.]\n",
      " [0. 0. 0. 1.]\n",
      " [1. 0. 0. 0.]\n",
      " [0. 1. 0. 0.]]\n",
      "\n",
      "y_train.shape:  (3613, 4)\n",
      "y_test.shape:  (347, 4)\n"
     ]
    }
   ],
   "source": [
    "## deal with label (string -> one-hot)\n",
    "\n",
    "from sklearn.preprocessing import LabelEncoder\n",
    "\n",
    "label_encoder = LabelEncoder()\n",
    "label_encoder.fit(y_train)\n",
    "print('check label: ', label_encoder.classes_)\n",
    "print('\\n## Before convert')\n",
    "print('y_train[0:4]:\\n', y_train[0:4])\n",
    "print('\\ny_train.shape: ', y_train.shape)\n",
    "print('y_test.shape: ', y_test.shape)\n",
    "\n",
    "def label_encode(le, labels):\n",
    "    enc = le.transform(labels)\n",
    "    return keras.utils.to_categorical(enc)\n",
    "\n",
    "def label_decode(le, one_hot_label):\n",
    "    dec = np.argmax(one_hot_label, axis=1)\n",
    "    return le.inverse_transform(dec)\n",
    "\n",
    "y_train = label_encode(label_encoder, y_train)\n",
    "y_test = label_encode(label_encoder, y_test)\n",
    "\n",
    "print('\\n\\n## After convert')\n",
    "print('y_train[0:4]:\\n', y_train[0:4])\n",
    "print('\\ny_train.shape: ', y_train.shape)\n",
    "print('y_test.shape: ', y_test.shape)\n"
   ]
  },
  {
   "cell_type": "code",
   "execution_count": 27,
   "metadata": {
    "ExecuteTime": {
     "end_time": "2019-12-24T08:22:29.242894Z",
     "start_time": "2019-12-24T08:22:29.240717Z"
    }
   },
   "outputs": [
    {
     "name": "stdout",
     "output_type": "stream",
     "text": [
      "input_shape:  500\n",
      "output_shape:  4\n"
     ]
    }
   ],
   "source": [
    "# I/O check\n",
    "input_shape = X_train.shape[1]\n",
    "print('input_shape: ', input_shape)\n",
    "\n",
    "output_shape = len(label_encoder.classes_)\n",
    "print('output_shape: ', output_shape)"
   ]
  },
  {
   "cell_type": "code",
   "execution_count": 28,
   "metadata": {
    "ExecuteTime": {
     "end_time": "2019-12-24T08:22:29.308540Z",
     "start_time": "2019-12-24T08:22:29.243767Z"
    }
   },
   "outputs": [
    {
     "name": "stdout",
     "output_type": "stream",
     "text": [
      "WARNING:tensorflow:From /usr/local/lib/python3.6/dist-packages/tensorflow_core/python/ops/resource_variable_ops.py:1630: calling BaseResourceVariable.__init__ (from tensorflow.python.ops.resource_variable_ops) with constraint is deprecated and will be removed in a future version.\n",
      "Instructions for updating:\n",
      "If using Keras pass *_constraint arguments to layers.\n",
      "Model: \"model_1\"\n",
      "_________________________________________________________________\n",
      "Layer (type)                 Output Shape              Param #   \n",
      "=================================================================\n",
      "input_1 (InputLayer)         (None, 500)               0         \n",
      "_________________________________________________________________\n",
      "dense_1 (Dense)              (None, 64)                32064     \n",
      "_________________________________________________________________\n",
      "re_lu_1 (ReLU)               (None, 64)                0         \n",
      "_________________________________________________________________\n",
      "dense_2 (Dense)              (None, 64)                4160      \n",
      "_________________________________________________________________\n",
      "re_lu_2 (ReLU)               (None, 64)                0         \n",
      "_________________________________________________________________\n",
      "dense_3 (Dense)              (None, 4)                 260       \n",
      "_________________________________________________________________\n",
      "softmax_1 (Softmax)          (None, 4)                 0         \n",
      "=================================================================\n",
      "Total params: 36,484\n",
      "Trainable params: 36,484\n",
      "Non-trainable params: 0\n",
      "_________________________________________________________________\n"
     ]
    }
   ],
   "source": [
    "from keras.models import Model\n",
    "from keras.layers import Input, Dense\n",
    "from keras.layers import ReLU, Softmax\n",
    "\n",
    "# input layer\n",
    "model_input = Input(shape=(input_shape, ))  # 500\n",
    "X = model_input\n",
    "\n",
    "# 1st hidden layer\n",
    "X_W1 = Dense(units=64)(X)  # 64\n",
    "H1 = ReLU()(X_W1)\n",
    "\n",
    "# 2nd hidden layer\n",
    "H1_W2 = Dense(units=64)(H1)  # 64\n",
    "H2 = ReLU()(H1_W2)\n",
    "\n",
    "# output layer\n",
    "H2_W3 = Dense(units=output_shape)(H2)  # 4\n",
    "H3 = Softmax()(H2_W3)\n",
    "\n",
    "model_output = H3\n",
    "\n",
    "# create model\n",
    "model = Model(inputs=[model_input], outputs=[model_output])\n",
    "\n",
    "# loss function & optimizer\n",
    "model.compile(optimizer='adam',\n",
    "              loss='categorical_crossentropy',\n",
    "              metrics=['accuracy'])\n",
    "\n",
    "# show model construction\n",
    "model.summary()"
   ]
  },
  {
   "cell_type": "code",
   "execution_count": 29,
   "metadata": {
    "ExecuteTime": {
     "end_time": "2019-12-24T08:22:36.706902Z",
     "start_time": "2019-12-24T08:22:29.309430Z"
    }
   },
   "outputs": [
    {
     "name": "stdout",
     "output_type": "stream",
     "text": [
      "WARNING:tensorflow:From /usr/local/lib/python3.6/dist-packages/keras/backend/tensorflow_backend.py:422: The name tf.global_variables is deprecated. Please use tf.compat.v1.global_variables instead.\n",
      "\n",
      "Train on 3613 samples, validate on 347 samples\n",
      "Epoch 1/25\n",
      "3613/3613 [==============================] - 0s 95us/step - loss: 1.3332 - accuracy: 0.3460 - val_loss: 1.2641 - val_accuracy: 0.4784\n",
      "Epoch 2/25\n",
      "3613/3613 [==============================] - 0s 50us/step - loss: 0.9912 - accuracy: 0.6499 - val_loss: 0.9098 - val_accuracy: 0.6513\n",
      "Epoch 3/25\n",
      "3613/3613 [==============================] - 0s 49us/step - loss: 0.5792 - accuracy: 0.7991 - val_loss: 0.7577 - val_accuracy: 0.7176\n",
      "Epoch 4/25\n",
      "3613/3613 [==============================] - 0s 50us/step - loss: 0.4224 - accuracy: 0.8420 - val_loss: 0.8082 - val_accuracy: 0.7205\n",
      "Epoch 5/25\n",
      "3613/3613 [==============================] - 0s 50us/step - loss: 0.3385 - accuracy: 0.8735 - val_loss: 0.8106 - val_accuracy: 0.7003\n",
      "Epoch 6/25\n",
      "3613/3613 [==============================] - 0s 50us/step - loss: 0.2779 - accuracy: 0.9059 - val_loss: 0.8321 - val_accuracy: 0.7262\n",
      "Epoch 7/25\n",
      "3613/3613 [==============================] - 0s 50us/step - loss: 0.2348 - accuracy: 0.9184 - val_loss: 0.8619 - val_accuracy: 0.7032\n",
      "Epoch 8/25\n",
      "3613/3613 [==============================] - 0s 56us/step - loss: 0.2012 - accuracy: 0.9333 - val_loss: 0.9048 - val_accuracy: 0.6974\n",
      "Epoch 9/25\n",
      "3613/3613 [==============================] - 0s 119us/step - loss: 0.1687 - accuracy: 0.9458 - val_loss: 0.9434 - val_accuracy: 0.6945\n",
      "Epoch 10/25\n",
      "3613/3613 [==============================] - 0s 49us/step - loss: 0.1424 - accuracy: 0.9552 - val_loss: 0.9916 - val_accuracy: 0.7089\n",
      "Epoch 11/25\n",
      "3613/3613 [==============================] - 0s 66us/step - loss: 0.1344 - accuracy: 0.9610 - val_loss: 1.0591 - val_accuracy: 0.7147\n",
      "Epoch 12/25\n",
      "3613/3613 [==============================] - 0s 81us/step - loss: 0.1165 - accuracy: 0.9648 - val_loss: 1.0598 - val_accuracy: 0.6916\n",
      "Epoch 13/25\n",
      "3613/3613 [==============================] - 0s 80us/step - loss: 0.1073 - accuracy: 0.9662 - val_loss: 1.1042 - val_accuracy: 0.6830\n",
      "Epoch 14/25\n",
      "3613/3613 [==============================] - 0s 53us/step - loss: 0.0991 - accuracy: 0.9676 - val_loss: 1.1364 - val_accuracy: 0.7061\n",
      "Epoch 15/25\n",
      "3613/3613 [==============================] - 0s 53us/step - loss: 0.0985 - accuracy: 0.9696 - val_loss: 1.1424 - val_accuracy: 0.6830\n",
      "Epoch 16/25\n",
      "3613/3613 [==============================] - 0s 54us/step - loss: 0.0870 - accuracy: 0.9693 - val_loss: 1.2067 - val_accuracy: 0.7032\n",
      "Epoch 17/25\n",
      "3613/3613 [==============================] - 0s 56us/step - loss: 0.0820 - accuracy: 0.9759 - val_loss: 1.1962 - val_accuracy: 0.6859\n",
      "Epoch 18/25\n",
      "3613/3613 [==============================] - 0s 57us/step - loss: 0.0796 - accuracy: 0.9751 - val_loss: 1.2844 - val_accuracy: 0.6830\n",
      "Epoch 19/25\n",
      "3613/3613 [==============================] - 0s 132us/step - loss: 0.0764 - accuracy: 0.9754 - val_loss: 1.2214 - val_accuracy: 0.6916\n",
      "Epoch 20/25\n",
      "3613/3613 [==============================] - 0s 86us/step - loss: 0.0764 - accuracy: 0.9765 - val_loss: 1.2968 - val_accuracy: 0.6945\n",
      "Epoch 21/25\n",
      "3613/3613 [==============================] - 1s 238us/step - loss: 0.0701 - accuracy: 0.9765 - val_loss: 1.3558 - val_accuracy: 0.6801\n",
      "Epoch 22/25\n",
      "3613/3613 [==============================] - 0s 100us/step - loss: 0.0699 - accuracy: 0.9762 - val_loss: 1.3737 - val_accuracy: 0.6859\n",
      "Epoch 23/25\n",
      "3613/3613 [==============================] - 0s 49us/step - loss: 0.0663 - accuracy: 0.9773 - val_loss: 1.3871 - val_accuracy: 0.6801\n",
      "Epoch 24/25\n",
      "3613/3613 [==============================] - 0s 108us/step - loss: 0.0654 - accuracy: 0.9762 - val_loss: 1.4000 - val_accuracy: 0.6859\n",
      "Epoch 25/25\n",
      "3613/3613 [==============================] - 0s 59us/step - loss: 0.0645 - accuracy: 0.9759 - val_loss: 1.4069 - val_accuracy: 0.6916\n",
      "training finish\n"
     ]
    }
   ],
   "source": [
    "from keras.callbacks import CSVLogger\n",
    "\n",
    "csv_logger = CSVLogger('logs/training_log.csv')\n",
    "\n",
    "# training setting\n",
    "epochs = 25\n",
    "batch_size = 32\n",
    "\n",
    "# training!\n",
    "history = model.fit(X_train, y_train, \n",
    "                    epochs=epochs, \n",
    "                    batch_size=batch_size, \n",
    "                    callbacks=[csv_logger],\n",
    "                    validation_data = (X_test, y_test))\n",
    "print('training finish')"
   ]
  },
  {
   "cell_type": "code",
   "execution_count": 30,
   "metadata": {
    "ExecuteTime": {
     "end_time": "2019-12-24T08:22:55.014187Z",
     "start_time": "2019-12-24T08:22:54.983630Z"
    }
   },
   "outputs": [
    {
     "data": {
      "text/plain": [
       "array([[2.3687123e-01, 9.4053494e-03, 3.2373053e-01, 4.2999282e-01],\n",
       "       [6.9232527e-07, 6.5115551e-06, 9.9999285e-01, 3.0140452e-08],\n",
       "       [1.5524380e-03, 3.6032367e-02, 9.6128553e-01, 1.1296273e-03],\n",
       "       [6.8569272e-05, 6.0393298e-01, 1.3299437e-02, 3.8269904e-01],\n",
       "       [9.9999917e-01, 5.1310483e-08, 5.4421703e-09, 8.4730203e-07]],\n",
       "      dtype=float32)"
      ]
     },
     "execution_count": 30,
     "metadata": {},
     "output_type": "execute_result"
    }
   ],
   "source": [
    "## predict\n",
    "pred_result = model.predict(X_test, batch_size=128)\n",
    "pred_result[:5]"
   ]
  },
  {
   "cell_type": "code",
   "execution_count": 31,
   "metadata": {
    "ExecuteTime": {
     "end_time": "2019-12-24T08:23:02.276229Z",
     "start_time": "2019-12-24T08:23:02.270817Z"
    }
   },
   "outputs": [
    {
     "data": {
      "text/plain": [
       "array(['sadness', 'joy', 'joy', 'fear', 'anger'], dtype=object)"
      ]
     },
     "execution_count": 31,
     "metadata": {},
     "output_type": "execute_result"
    }
   ],
   "source": [
    "pred_result = label_decode(label_encoder, pred_result)\n",
    "pred_result[:5]"
   ]
  },
  {
   "cell_type": "code",
   "execution_count": 32,
   "metadata": {
    "ExecuteTime": {
     "end_time": "2019-12-24T08:23:09.927297Z",
     "start_time": "2019-12-24T08:23:09.918715Z"
    }
   },
   "outputs": [
    {
     "name": "stdout",
     "output_type": "stream",
     "text": [
      "testing accuracy: 0.69\n"
     ]
    }
   ],
   "source": [
    "from sklearn.metrics import accuracy_score\n",
    "\n",
    "print('testing accuracy: {}'.format(round(accuracy_score(label_decode(label_encoder, y_test), pred_result), 2)))"
   ]
  },
  {
   "cell_type": "code",
   "execution_count": 33,
   "metadata": {
    "ExecuteTime": {
     "end_time": "2019-12-24T08:23:26.261595Z",
     "start_time": "2019-12-24T08:23:26.248663Z"
    }
   },
   "outputs": [
    {
     "data": {
      "text/html": [
       "<div>\n",
       "<style scoped>\n",
       "    .dataframe tbody tr th:only-of-type {\n",
       "        vertical-align: middle;\n",
       "    }\n",
       "\n",
       "    .dataframe tbody tr th {\n",
       "        vertical-align: top;\n",
       "    }\n",
       "\n",
       "    .dataframe thead th {\n",
       "        text-align: right;\n",
       "    }\n",
       "</style>\n",
       "<table border=\"1\" class=\"dataframe\">\n",
       "  <thead>\n",
       "    <tr style=\"text-align: right;\">\n",
       "      <th></th>\n",
       "      <th>epoch</th>\n",
       "      <th>accuracy</th>\n",
       "      <th>loss</th>\n",
       "      <th>val_accuracy</th>\n",
       "      <th>val_loss</th>\n",
       "    </tr>\n",
       "  </thead>\n",
       "  <tbody>\n",
       "    <tr>\n",
       "      <th>0</th>\n",
       "      <td>0</td>\n",
       "      <td>0.345973</td>\n",
       "      <td>1.333206</td>\n",
       "      <td>0.478386</td>\n",
       "      <td>1.264111</td>\n",
       "    </tr>\n",
       "    <tr>\n",
       "      <th>1</th>\n",
       "      <td>1</td>\n",
       "      <td>0.649875</td>\n",
       "      <td>0.991181</td>\n",
       "      <td>0.651297</td>\n",
       "      <td>0.909832</td>\n",
       "    </tr>\n",
       "    <tr>\n",
       "      <th>2</th>\n",
       "      <td>2</td>\n",
       "      <td>0.799059</td>\n",
       "      <td>0.579187</td>\n",
       "      <td>0.717579</td>\n",
       "      <td>0.757730</td>\n",
       "    </tr>\n",
       "    <tr>\n",
       "      <th>3</th>\n",
       "      <td>3</td>\n",
       "      <td>0.841960</td>\n",
       "      <td>0.422410</td>\n",
       "      <td>0.720461</td>\n",
       "      <td>0.808211</td>\n",
       "    </tr>\n",
       "    <tr>\n",
       "      <th>4</th>\n",
       "      <td>4</td>\n",
       "      <td>0.873512</td>\n",
       "      <td>0.338516</td>\n",
       "      <td>0.700288</td>\n",
       "      <td>0.810590</td>\n",
       "    </tr>\n",
       "    <tr>\n",
       "      <th>5</th>\n",
       "      <td>5</td>\n",
       "      <td>0.905895</td>\n",
       "      <td>0.277886</td>\n",
       "      <td>0.726225</td>\n",
       "      <td>0.832061</td>\n",
       "    </tr>\n",
       "    <tr>\n",
       "      <th>6</th>\n",
       "      <td>6</td>\n",
       "      <td>0.918350</td>\n",
       "      <td>0.234839</td>\n",
       "      <td>0.703170</td>\n",
       "      <td>0.861948</td>\n",
       "    </tr>\n",
       "    <tr>\n",
       "      <th>7</th>\n",
       "      <td>7</td>\n",
       "      <td>0.933296</td>\n",
       "      <td>0.201184</td>\n",
       "      <td>0.697406</td>\n",
       "      <td>0.904761</td>\n",
       "    </tr>\n",
       "    <tr>\n",
       "      <th>8</th>\n",
       "      <td>8</td>\n",
       "      <td>0.945751</td>\n",
       "      <td>0.168654</td>\n",
       "      <td>0.694524</td>\n",
       "      <td>0.943361</td>\n",
       "    </tr>\n",
       "    <tr>\n",
       "      <th>9</th>\n",
       "      <td>9</td>\n",
       "      <td>0.955162</td>\n",
       "      <td>0.142366</td>\n",
       "      <td>0.708934</td>\n",
       "      <td>0.991572</td>\n",
       "    </tr>\n",
       "    <tr>\n",
       "      <th>10</th>\n",
       "      <td>10</td>\n",
       "      <td>0.960974</td>\n",
       "      <td>0.134368</td>\n",
       "      <td>0.714697</td>\n",
       "      <td>1.059145</td>\n",
       "    </tr>\n",
       "    <tr>\n",
       "      <th>11</th>\n",
       "      <td>11</td>\n",
       "      <td>0.964849</td>\n",
       "      <td>0.116531</td>\n",
       "      <td>0.691643</td>\n",
       "      <td>1.059784</td>\n",
       "    </tr>\n",
       "    <tr>\n",
       "      <th>12</th>\n",
       "      <td>12</td>\n",
       "      <td>0.966233</td>\n",
       "      <td>0.107266</td>\n",
       "      <td>0.682997</td>\n",
       "      <td>1.104235</td>\n",
       "    </tr>\n",
       "    <tr>\n",
       "      <th>13</th>\n",
       "      <td>13</td>\n",
       "      <td>0.967617</td>\n",
       "      <td>0.099071</td>\n",
       "      <td>0.706052</td>\n",
       "      <td>1.136404</td>\n",
       "    </tr>\n",
       "    <tr>\n",
       "      <th>14</th>\n",
       "      <td>14</td>\n",
       "      <td>0.969554</td>\n",
       "      <td>0.098482</td>\n",
       "      <td>0.682997</td>\n",
       "      <td>1.142354</td>\n",
       "    </tr>\n",
       "    <tr>\n",
       "      <th>15</th>\n",
       "      <td>15</td>\n",
       "      <td>0.969278</td>\n",
       "      <td>0.086954</td>\n",
       "      <td>0.703170</td>\n",
       "      <td>1.206671</td>\n",
       "    </tr>\n",
       "    <tr>\n",
       "      <th>16</th>\n",
       "      <td>16</td>\n",
       "      <td>0.975920</td>\n",
       "      <td>0.081974</td>\n",
       "      <td>0.685879</td>\n",
       "      <td>1.196156</td>\n",
       "    </tr>\n",
       "    <tr>\n",
       "      <th>17</th>\n",
       "      <td>17</td>\n",
       "      <td>0.975090</td>\n",
       "      <td>0.079583</td>\n",
       "      <td>0.682997</td>\n",
       "      <td>1.284365</td>\n",
       "    </tr>\n",
       "    <tr>\n",
       "      <th>18</th>\n",
       "      <td>18</td>\n",
       "      <td>0.975367</td>\n",
       "      <td>0.076401</td>\n",
       "      <td>0.691643</td>\n",
       "      <td>1.221379</td>\n",
       "    </tr>\n",
       "    <tr>\n",
       "      <th>19</th>\n",
       "      <td>19</td>\n",
       "      <td>0.976474</td>\n",
       "      <td>0.076360</td>\n",
       "      <td>0.694524</td>\n",
       "      <td>1.296834</td>\n",
       "    </tr>\n",
       "    <tr>\n",
       "      <th>20</th>\n",
       "      <td>20</td>\n",
       "      <td>0.976474</td>\n",
       "      <td>0.070067</td>\n",
       "      <td>0.680115</td>\n",
       "      <td>1.355822</td>\n",
       "    </tr>\n",
       "    <tr>\n",
       "      <th>21</th>\n",
       "      <td>21</td>\n",
       "      <td>0.976197</td>\n",
       "      <td>0.069901</td>\n",
       "      <td>0.685879</td>\n",
       "      <td>1.373684</td>\n",
       "    </tr>\n",
       "    <tr>\n",
       "      <th>22</th>\n",
       "      <td>22</td>\n",
       "      <td>0.977304</td>\n",
       "      <td>0.066277</td>\n",
       "      <td>0.680115</td>\n",
       "      <td>1.387081</td>\n",
       "    </tr>\n",
       "    <tr>\n",
       "      <th>23</th>\n",
       "      <td>23</td>\n",
       "      <td>0.976197</td>\n",
       "      <td>0.065437</td>\n",
       "      <td>0.685879</td>\n",
       "      <td>1.400038</td>\n",
       "    </tr>\n",
       "    <tr>\n",
       "      <th>24</th>\n",
       "      <td>24</td>\n",
       "      <td>0.975920</td>\n",
       "      <td>0.064453</td>\n",
       "      <td>0.691643</td>\n",
       "      <td>1.406852</td>\n",
       "    </tr>\n",
       "  </tbody>\n",
       "</table>\n",
       "</div>"
      ],
      "text/plain": [
       "    epoch  accuracy      loss  val_accuracy  val_loss\n",
       "0       0  0.345973  1.333206      0.478386  1.264111\n",
       "1       1  0.649875  0.991181      0.651297  0.909832\n",
       "2       2  0.799059  0.579187      0.717579  0.757730\n",
       "3       3  0.841960  0.422410      0.720461  0.808211\n",
       "4       4  0.873512  0.338516      0.700288  0.810590\n",
       "5       5  0.905895  0.277886      0.726225  0.832061\n",
       "6       6  0.918350  0.234839      0.703170  0.861948\n",
       "7       7  0.933296  0.201184      0.697406  0.904761\n",
       "8       8  0.945751  0.168654      0.694524  0.943361\n",
       "9       9  0.955162  0.142366      0.708934  0.991572\n",
       "10     10  0.960974  0.134368      0.714697  1.059145\n",
       "11     11  0.964849  0.116531      0.691643  1.059784\n",
       "12     12  0.966233  0.107266      0.682997  1.104235\n",
       "13     13  0.967617  0.099071      0.706052  1.136404\n",
       "14     14  0.969554  0.098482      0.682997  1.142354\n",
       "15     15  0.969278  0.086954      0.703170  1.206671\n",
       "16     16  0.975920  0.081974      0.685879  1.196156\n",
       "17     17  0.975090  0.079583      0.682997  1.284365\n",
       "18     18  0.975367  0.076401      0.691643  1.221379\n",
       "19     19  0.976474  0.076360      0.694524  1.296834\n",
       "20     20  0.976474  0.070067      0.680115  1.355822\n",
       "21     21  0.976197  0.069901      0.685879  1.373684\n",
       "22     22  0.977304  0.066277      0.680115  1.387081\n",
       "23     23  0.976197  0.065437      0.685879  1.400038\n",
       "24     24  0.975920  0.064453      0.691643  1.406852"
      ]
     },
     "execution_count": 33,
     "metadata": {},
     "output_type": "execute_result"
    }
   ],
   "source": [
    "#Let's take a look at the training log\n",
    "training_log = pd.DataFrame()\n",
    "training_log = pd.read_csv(\"logs/training_log.csv\")\n",
    "training_log"
   ]
  },
  {
   "cell_type": "markdown",
   "metadata": {},
   "source": [
    "---\n",
    "### ** >>> Exercise 6 (Take home): **  \n",
    "\n",
    "Plot the Training and Validation Accuracy and Loss (different plots), just like the images below (Note: the pictures below are an example from a different model). How to interpret the graphs you got? How are they related to the concept of"
   ]
  },
  {
   "cell_type": "code",
   "execution_count": 34,
   "metadata": {
    "ExecuteTime": {
     "end_time": "2019-12-24T08:23:34.062103Z",
     "start_time": "2019-12-24T08:23:33.925593Z"
    }
   },
   "outputs": [
    {
     "data": {
      "image/png": "[encoded data removed]",
      "text/plain": [
       "<Figure size 432x288 with 1 Axes>"
      ]
     },
     "metadata": {
      "needs_background": "light"
     },
     "output_type": "display_data"
    }
   ],
   "source": [
    "# Answer here\n",
    "import matplotlib.pyplot as plt\n",
    "%matplotlib inline\n",
    "\n",
    "plt.plot(training_log['loss'])\n",
    "plt.plot(training_log['val_loss'])\n",
    "plt.title('Train Loss per epoch')\n",
    "plt.ylabel('Loss')\n",
    "plt.xlabel('Epoch')\n",
    "plt.legend(['train loss', 'val loss'], loc='upper left')\n",
    "plt.show()"
   ]
  },
  {
   "cell_type": "code",
   "execution_count": 35,
   "metadata": {
    "ExecuteTime": {
     "end_time": "2019-12-24T08:23:44.520498Z",
     "start_time": "2019-12-24T08:23:44.439190Z"
    }
   },
   "outputs": [
    {
     "data": {
      "image/png": "[encoded data removed]",
      "text/plain": [
       "<Figure size 432x288 with 1 Axes>"
      ]
     },
     "metadata": {
      "needs_background": "light"
     },
     "output_type": "display_data"
    }
   ],
   "source": [
    "# Answer here\n",
    "import matplotlib.pyplot as plt\n",
    "%matplotlib inline\n",
    "\n",
    "plt.plot(training_log['accuracy'])\n",
    "plt.plot(training_log['val_accuracy'])\n",
    "plt.title('Training accuracy per epoch')\n",
    "plt.ylabel('Accuracy')\n",
    "plt.xlabel('Epoch')\n",
    "plt.legend(['train accuracy', 'val accuracy'], loc='upper left')\n",
    "plt.show()"
   ]
  },
  {
   "cell_type": "markdown",
   "metadata": {},
   "source": [
    "---\n",
    "### ** >>> Exercise 7 (Take home): **  \n",
    "\n",
    "Now, we have the word vectors, but our input data is a sequence of words (or say sentence). \n",
    "How can we utilize these \"word\" vectors to represent the sentence data and train our model?"
   ]
  },
  {
   "cell_type": "markdown",
   "metadata": {},
   "source": [
    "Answer here\n",
    "use \"doc2vec\" implementation. doc2vec is an extension of word2vec to the phrase-, sentence-, and document-level."
   ]
  },
  {
   "cell_type": "markdown",
   "metadata": {},
   "source": [
    "# -----------------------------------------------------------------------------------------"
   ]
  },
  {
   "cell_type": "code",
   "execution_count": 36,
   "metadata": {
    "ExecuteTime": {
     "end_time": "2019-12-24T08:26:19.363538Z",
     "start_time": "2019-12-24T08:26:18.890090Z"
    }
   },
   "outputs": [
    {
     "data": {
      "text/html": [
       "<div>\n",
       "<style scoped>\n",
       "    .dataframe tbody tr th:only-of-type {\n",
       "        vertical-align: middle;\n",
       "    }\n",
       "\n",
       "    .dataframe tbody tr th {\n",
       "        vertical-align: top;\n",
       "    }\n",
       "\n",
       "    .dataframe thead th {\n",
       "        text-align: right;\n",
       "    }\n",
       "</style>\n",
       "<table border=\"1\" class=\"dataframe\">\n",
       "  <thead>\n",
       "    <tr style=\"text-align: right;\">\n",
       "      <th></th>\n",
       "      <th>id</th>\n",
       "      <th>text</th>\n",
       "      <th>text_tokenized</th>\n",
       "    </tr>\n",
       "  </thead>\n",
       "  <tbody>\n",
       "    <tr>\n",
       "      <th>454</th>\n",
       "      <td>10454</td>\n",
       "      <td>@LaraTheIrish &amp;lt; feel everything. She would ...</td>\n",
       "      <td>[@, LaraTheIrish, &amp;, lt, ;, feel, everything, ...</td>\n",
       "    </tr>\n",
       "    <tr>\n",
       "      <th>3200</th>\n",
       "      <td>40373</td>\n",
       "      <td>Y'all tune into Snapchat for Beans funereal</td>\n",
       "      <td>[Y'all, tune, into, Snapchat, for, Beans, fune...</td>\n",
       "    </tr>\n",
       "    <tr>\n",
       "      <th>414</th>\n",
       "      <td>10414</td>\n",
       "      <td>i can't believe they're all messing up my favo...</td>\n",
       "      <td>[i, ca, n't, believe, they, 're, all, messing,...</td>\n",
       "    </tr>\n",
       "    <tr>\n",
       "      <th>1568</th>\n",
       "      <td>20711</td>\n",
       "      <td>@GlobeChadFinn Sadly, not enough names.  The w...</td>\n",
       "      <td>[@, GlobeChadFinn, Sadly, ,, not, enough, name...</td>\n",
       "    </tr>\n",
       "    <tr>\n",
       "      <th>3558</th>\n",
       "      <td>40731</td>\n",
       "      <td>Damn gud #premiere #LethalWeapon...#funny and</td>\n",
       "      <td>[Damn, gud, #, premiere, #, LethalWeapon, ...,...</td>\n",
       "    </tr>\n",
       "  </tbody>\n",
       "</table>\n",
       "</div>"
      ],
      "text/plain": [
       "         id                                               text  \\\n",
       "454   10454  @LaraTheIrish &lt; feel everything. She would ...   \n",
       "3200  40373        Y'all tune into Snapchat for Beans funereal   \n",
       "414   10414  i can't believe they're all messing up my favo...   \n",
       "1568  20711  @GlobeChadFinn Sadly, not enough names.  The w...   \n",
       "3558  40731     Damn gud #premiere #LethalWeapon...#funny and    \n",
       "\n",
       "                                         text_tokenized  \n",
       "454   [@, LaraTheIrish, &, lt, ;, feel, everything, ...  \n",
       "3200  [Y'all, tune, into, Snapchat, for, Beans, fune...  \n",
       "414   [i, ca, n't, believe, they, 're, all, messing,...  \n",
       "1568  [@, GlobeChadFinn, Sadly, ,, not, enough, name...  \n",
       "3558  [Damn, gud, #, premiere, #, LethalWeapon, ...,...  "
      ]
     },
     "execution_count": 36,
     "metadata": {},
     "output_type": "execute_result"
    }
   ],
   "source": [
    "## check library\n",
    "import gensim\n",
    "\n",
    "## ignore warnings\n",
    "import warnings\n",
    "warnings.filterwarnings('ignore')\n",
    "\n",
    "# # if you want to see the training messages, you can use it\n",
    "# import logging\n",
    "# logging.basicConfig(format='%(asctime)s : %(levelname)s : %(message)s', level=logging.INFO)\n",
    "\n",
    "## the input type\n",
    "train_df['text_tokenized'] = train_df['text'].apply(lambda x: nltk.word_tokenize(x))\n",
    "train_df[['id', 'text', 'text_tokenized']].head()"
   ]
  },
  {
   "cell_type": "code",
   "execution_count": 37,
   "metadata": {
    "ExecuteTime": {
     "end_time": "2019-12-24T08:26:19.367081Z",
     "start_time": "2019-12-24T08:26:19.364624Z"
    }
   },
   "outputs": [
    {
     "data": {
      "text/plain": [
       "array([list(['@', 'LaraTheIrish', '&', 'lt', ';', 'feel', 'everything', '.', 'She', 'would', 'remember', 'everything', '.', 'Evanora', 'hoped', 'this', 'would', 'serve', 'to', 'fuel', 'the', 'creatures', 'anger', 'and', 'run', 'rabid', '&', 'gt', ';']),\n",
       "       list([\"Y'all\", 'tune', 'into', 'Snapchat', 'for', 'Beans', 'funereal']),\n",
       "       list(['i', 'ca', \"n't\", 'believe', 'they', \"'re\", 'all', 'messing', 'up', 'my', 'favourite', 'of', 'all', 'bakes', 'i', 'feel', 'personally', 'offended'])],\n",
       "      dtype=object)"
      ]
     },
     "execution_count": 37,
     "metadata": {},
     "output_type": "execute_result"
    }
   ],
   "source": [
    "## create the training corpus\n",
    "training_corpus = train_df['text_tokenized'].values\n",
    "training_corpus[:3]"
   ]
  },
  {
   "cell_type": "code",
   "execution_count": 38,
   "metadata": {
    "ExecuteTime": {
     "end_time": "2019-12-24T08:26:27.813793Z",
     "start_time": "2019-12-24T08:26:27.347485Z"
    }
   },
   "outputs": [
    {
     "data": {
      "text/html": [
       "<div>\n",
       "<style scoped>\n",
       "    .dataframe tbody tr th:only-of-type {\n",
       "        vertical-align: middle;\n",
       "    }\n",
       "\n",
       "    .dataframe tbody tr th {\n",
       "        vertical-align: top;\n",
       "    }\n",
       "\n",
       "    .dataframe thead th {\n",
       "        text-align: right;\n",
       "    }\n",
       "</style>\n",
       "<table border=\"1\" class=\"dataframe\">\n",
       "  <thead>\n",
       "    <tr style=\"text-align: right;\">\n",
       "      <th></th>\n",
       "      <th>id</th>\n",
       "      <th>text</th>\n",
       "      <th>text_tokenized</th>\n",
       "    </tr>\n",
       "  </thead>\n",
       "  <tbody>\n",
       "    <tr>\n",
       "      <th>454</th>\n",
       "      <td>10454</td>\n",
       "      <td>@LaraTheIrish &amp;lt; feel everything. She would ...</td>\n",
       "      <td>[@, LaraTheIrish, &amp;, lt, ;, feel, everything, ...</td>\n",
       "    </tr>\n",
       "    <tr>\n",
       "      <th>3200</th>\n",
       "      <td>40373</td>\n",
       "      <td>Y'all tune into Snapchat for Beans funereal</td>\n",
       "      <td>[Y'all, tune, into, Snapchat, for, Beans, fune...</td>\n",
       "    </tr>\n",
       "    <tr>\n",
       "      <th>414</th>\n",
       "      <td>10414</td>\n",
       "      <td>i can't believe they're all messing up my favo...</td>\n",
       "      <td>[i, ca, n't, believe, they, 're, all, messing,...</td>\n",
       "    </tr>\n",
       "    <tr>\n",
       "      <th>1568</th>\n",
       "      <td>20711</td>\n",
       "      <td>@GlobeChadFinn Sadly, not enough names.  The w...</td>\n",
       "      <td>[@, GlobeChadFinn, Sadly, ,, not, enough, name...</td>\n",
       "    </tr>\n",
       "    <tr>\n",
       "      <th>3558</th>\n",
       "      <td>40731</td>\n",
       "      <td>Damn gud #premiere #LethalWeapon...#funny and</td>\n",
       "      <td>[Damn, gud, #, premiere, #, LethalWeapon, ...,...</td>\n",
       "    </tr>\n",
       "  </tbody>\n",
       "</table>\n",
       "</div>"
      ],
      "text/plain": [
       "         id                                               text  \\\n",
       "454   10454  @LaraTheIrish &lt; feel everything. She would ...   \n",
       "3200  40373        Y'all tune into Snapchat for Beans funereal   \n",
       "414   10414  i can't believe they're all messing up my favo...   \n",
       "1568  20711  @GlobeChadFinn Sadly, not enough names.  The w...   \n",
       "3558  40731     Damn gud #premiere #LethalWeapon...#funny and    \n",
       "\n",
       "                                         text_tokenized  \n",
       "454   [@, LaraTheIrish, &, lt, ;, feel, everything, ...  \n",
       "3200  [Y'all, tune, into, Snapchat, for, Beans, fune...  \n",
       "414   [i, ca, n't, believe, they, 're, all, messing,...  \n",
       "1568  [@, GlobeChadFinn, Sadly, ,, not, enough, name...  \n",
       "3558  [Damn, gud, #, premiere, #, LethalWeapon, ...,...  "
      ]
     },
     "execution_count": 38,
     "metadata": {},
     "output_type": "execute_result"
    }
   ],
   "source": [
    "## the input type\n",
    "train_df['text_tokenized'] = train_df['text'].apply(lambda x: nltk.word_tokenize(x))\n",
    "train_df[['id', 'text', 'text_tokenized']].head()"
   ]
  },
  {
   "cell_type": "code",
   "execution_count": 39,
   "metadata": {
    "ExecuteTime": {
     "end_time": "2019-12-24T08:26:36.251755Z",
     "start_time": "2019-12-24T08:26:34.234073Z"
    }
   },
   "outputs": [],
   "source": [
    "from gensim.models import Word2Vec\n",
    "\n",
    "## setting\n",
    "vector_dim = 100\n",
    "window_size = 5\n",
    "min_count = 1\n",
    "training_iter = 20\n",
    "\n",
    "## model\n",
    "word2vec_model = Word2Vec(sentences=training_corpus, \n",
    "                          size=vector_dim, window=window_size, \n",
    "                          min_count=min_count, iter=training_iter)"
   ]
  },
  {
   "cell_type": "code",
   "execution_count": 40,
   "metadata": {
    "ExecuteTime": {
     "end_time": "2019-12-24T08:27:48.417756Z",
     "start_time": "2019-12-24T08:26:57.129378Z"
    }
   },
   "outputs": [
    {
     "name": "stdout",
     "output_type": "stream",
     "text": [
      "load ok\n"
     ]
    },
    {
     "data": {
      "text/plain": [
       "[('glad', 0.7408890128135681),\n",
       " ('pleased', 0.6632171273231506),\n",
       " ('ecstatic', 0.6626912355422974),\n",
       " ('overjoyed', 0.6599286794662476),\n",
       " ('thrilled', 0.6514049768447876),\n",
       " ('satisfied', 0.6437950134277344),\n",
       " ('proud', 0.636042058467865),\n",
       " ('delighted', 0.627237856388092),\n",
       " ('disappointed', 0.6269949674606323),\n",
       " ('excited', 0.6247666478157043)]"
      ]
     },
     "execution_count": 40,
     "metadata": {},
     "output_type": "execute_result"
    }
   ],
   "source": [
    "from gensim.models import KeyedVectors\n",
    "\n",
    "## Note: this model is very huge, this will take some time ...\n",
    "model_path = \"GoogleNews-vectors-negative300.bin\"\n",
    "w2v_google_model = KeyedVectors.load_word2vec_format(model_path, binary=True)\n",
    "print('load ok')\n",
    "\n",
    "w2v_google_model.most_similar('happy', topn=10)"
   ]
  },
  {
   "cell_type": "markdown",
   "metadata": {},
   "source": [
    "---\n",
    "### ** >>> Exercise 8 (Take home): **  \n",
    "\n",
    "Generate a t-SNE visualization to show the 15 words most related to the words \"angry\", \"happy\", \"sad\", \"fear\" (60 words total)."
   ]
  },
  {
   "cell_type": "code",
   "execution_count": 44,
   "metadata": {
    "ExecuteTime": {
     "end_time": "2019-12-24T08:28:57.890187Z",
     "start_time": "2019-12-24T08:28:55.967404Z"
    }
   },
   "outputs": [
    {
     "name": "stdout",
     "output_type": "stream",
     "text": [
      "happy_words:  ['happy', 'glad', 'pleased', 'ecstatic', 'overjoyed', 'thrilled', 'satisfied', 'proud', 'delighted', 'disappointed', 'excited', 'happier', 'Said_Hirschbeck', 'elated', 'thankful', 'unhappy']\n",
      "angry_words:  ['angry', 'irate', 'enraged', 'indignant', 'incensed', 'annoyed', 'agitated', 'frustrated', 'furious', 'unhappy', 'outraged', 'livid', 'irritated', 'exasperated', 'angrier', 'Angry']\n",
      "sad_words:  ['sad', 'saddening', 'Sad', 'saddened', 'heartbreaking', 'disheartening', 'Meny_Friedman', 'parishioner_Pat_Patello', 'saddens_me', 'distressing', 'reminders_bobbing', 'Turkoman_Shiites', 'saddest', 'unfortunate', 'sorry', 'bittersweet']\n",
      "fear_words:  ['fear', 'fearful', 'fears', 'Fear', 'fearing', 'worry', 'dread', 'feared', 'anxiety', 'apprehension', 'afraid', 'worries', 'concern', 'distrust', 'worried', 'Fearful']\n",
      "\n",
      "target words: \n",
      "['happy', 'glad', 'pleased', 'ecstatic', 'overjoyed', 'thrilled', 'satisfied', 'proud', 'delighted', 'disappointed', 'excited', 'happier', 'Said_Hirschbeck', 'elated', 'thankful', 'unhappy', 'angry', 'irate', 'enraged', 'indignant', 'incensed', 'annoyed', 'agitated', 'frustrated', 'furious', 'unhappy', 'outraged', 'livid', 'irritated', 'exasperated', 'angrier', 'Angry', 'sad', 'saddening', 'Sad', 'saddened', 'heartbreaking', 'disheartening', 'Meny_Friedman', 'parishioner_Pat_Patello', 'saddens_me', 'distressing', 'reminders_bobbing', 'Turkoman_Shiites', 'saddest', 'unfortunate', 'sorry', 'bittersweet', 'fear', 'fearful', 'fears', 'Fear', 'fearing', 'worry', 'dread', 'feared', 'anxiety', 'apprehension', 'afraid', 'worries', 'concern', 'distrust', 'worried', 'Fearful']\n",
      "\n",
      "color list:\n",
      "['b', 'b', 'b', 'b', 'b', 'b', 'b', 'b', 'b', 'b', 'b', 'b', 'b', 'b', 'b', 'b', 'g', 'g', 'g', 'g', 'g', 'g', 'g', 'g', 'g', 'g', 'g', 'g', 'g', 'g', 'g', 'g', 'r', 'r', 'r', 'r', 'r', 'r', 'r', 'r', 'r', 'r', 'r', 'r', 'r', 'r', 'r', 'r', 'y', 'y', 'y', 'y', 'y', 'y', 'y', 'y', 'y', 'y', 'y', 'y', 'y', 'y', 'y', 'y']\n"
     ]
    },
    {
     "data": {
      "image/png": "[encoded data removed]",
      "text/plain": [
       "<Figure size 862.5x862.5 with 1 Axes>"
      ]
     },
     "metadata": {
      "needs_background": "light"
     },
     "output_type": "display_data"
    }
   ],
   "source": [
    "# Answer here\n",
    "word_list = [ 'angry', 'happy', 'sad', 'fear']\n",
    "\n",
    "topn = 15\n",
    "happy_words = ['happy'] + [word_ for word_, sim_ in w2v_google_model.most_similar('happy', topn=topn)]\n",
    "angry_words = ['angry'] + [word_ for word_, sim_ in w2v_google_model.most_similar('angry', topn=topn)]        \n",
    "sad_words = ['sad'] + [word_ for word_, sim_ in w2v_google_model.most_similar('sad', topn=topn)]        \n",
    "fear_words = ['fear'] + [word_ for word_, sim_ in w2v_google_model.most_similar('fear', topn=topn)]  \n",
    "\n",
    "print('happy_words: ', happy_words)\n",
    "print('angry_words: ', angry_words)\n",
    "print('sad_words: ', sad_words)\n",
    "print('fear_words: ', fear_words)\n",
    "\n",
    "target_words = happy_words + angry_words + sad_words + fear_words\n",
    "print('\\ntarget words: ')\n",
    "print(target_words)\n",
    "\n",
    "print('\\ncolor list:')\n",
    "cn = topn + 1\n",
    "color = ['b'] * cn + ['g'] * cn + ['r'] * cn + ['y'] * cn\n",
    "print(color)\n",
    "\n",
    "%matplotlib inline\n",
    "import matplotlib.pyplot as plt\n",
    "from sklearn.manifold import TSNE\n",
    "\n",
    "## w2v model\n",
    "model = w2v_google_model\n",
    "\n",
    "## prepare training word vectors\n",
    "size = 200\n",
    "target_size = len(target_words)\n",
    "all_word = list(model.vocab.keys())\n",
    "word_train = target_words + all_word[:size]\n",
    "X_train = model[word_train]\n",
    "\n",
    "## t-SNE model\n",
    "tsne = TSNE(n_components=2, metric='cosine', random_state=28)\n",
    "\n",
    "## training\n",
    "X_tsne = tsne.fit_transform(X_train)\n",
    "\n",
    "## plot the result\n",
    "plt.figure(figsize=(7.5, 7.5), dpi=115)\n",
    "plt.scatter(X_tsne[:target_size, 0], X_tsne[:target_size, 1], c=color)\n",
    "for label, x, y in zip(target_words, X_tsne[:target_size, 0], X_tsne[:target_size, 1]):\n",
    "    plt.annotate(label, xy=(x,y), xytext=(0,0),  textcoords='offset points')\n",
    "plt.show()"
   ]
  },
  {
   "cell_type": "markdown",
   "metadata": {},
   "source": [
    "# Load data"
   ]
  },
  {
   "cell_type": "code",
   "execution_count": 45,
   "metadata": {
    "ExecuteTime": {
     "end_time": "2019-12-24T08:29:33.043370Z",
     "start_time": "2019-12-24T08:29:20.941896Z"
    }
   },
   "outputs": [
    {
     "name": "stdout",
     "output_type": "stream",
     "text": [
      "   tweet_id identification\n",
      "0  0x28cc61           test\n",
      "1  0x29e452          train\n",
      "2  0x2b3819          train\n",
      "3  0x2db41f           test\n",
      "4  0x2a2acc          train\n",
      "------------\n",
      "   tweet_id       emotion\n",
      "0  0x3140b1       sadness\n",
      "1  0x368b73       disgust\n",
      "2  0x296183  anticipation\n",
      "3  0x2bd6e1           joy\n",
      "4  0x2ee1dd  anticipation\n",
      "------------\n",
      "   _score          _index                                            _source  \\\n",
      "0     391  hashtag_tweets  {'tweet': {'hashtags': ['Snapchat'], 'tweet_id...   \n",
      "1     433  hashtag_tweets  {'tweet': {'hashtags': ['freepress', 'TrumpLeg...   \n",
      "2     232  hashtag_tweets  {'tweet': {'hashtags': ['bibleverse'], 'tweet_...   \n",
      "3     376  hashtag_tweets  {'tweet': {'hashtags': [], 'tweet_id': '0x1cd5...   \n",
      "4     989  hashtag_tweets  {'tweet': {'hashtags': [], 'tweet_id': '0x2de2...   \n",
      "\n",
      "            _crawldate   _type  \n",
      "0  2015-05-23 11:42:47  tweets  \n",
      "1  2016-01-28 04:52:09  tweets  \n",
      "2  2017-12-25 04:39:20  tweets  \n",
      "3  2016-01-24 23:53:05  tweets  \n",
      "4  2016-01-08 17:18:59  tweets  \n"
     ]
    }
   ],
   "source": [
    "### Begin Assignmes\n",
    "import pandas as pd\n",
    "data_id = pd.read_csv('data_identification.csv')\n",
    "emotion = pd.read_csv('emotion.csv')\n",
    "tweets = pd.read_json('tweets_DM.json',lines = True)\n",
    "\n",
    "print(data_id.head())\n",
    "print('------------')\n",
    "print(emotion.head())\n",
    "print('------------')\n",
    "print(tweets.head())\n"
   ]
  },
  {
   "cell_type": "code",
   "execution_count": 46,
   "metadata": {
    "ExecuteTime": {
     "end_time": "2019-12-24T08:30:13.098924Z",
     "start_time": "2019-12-24T08:29:47.687337Z"
    }
   },
   "outputs": [
    {
     "data": {
      "text/html": [
       "<div>\n",
       "<style scoped>\n",
       "    .dataframe tbody tr th:only-of-type {\n",
       "        vertical-align: middle;\n",
       "    }\n",
       "\n",
       "    .dataframe tbody tr th {\n",
       "        vertical-align: top;\n",
       "    }\n",
       "\n",
       "    .dataframe thead th {\n",
       "        text-align: right;\n",
       "    }\n",
       "</style>\n",
       "<table border=\"1\" class=\"dataframe\">\n",
       "  <thead>\n",
       "    <tr style=\"text-align: right;\">\n",
       "      <th></th>\n",
       "      <th>tweet.hashtags</th>\n",
       "      <th>tweet.tweet_id</th>\n",
       "      <th>tweet.text</th>\n",
       "    </tr>\n",
       "  </thead>\n",
       "  <tbody>\n",
       "    <tr>\n",
       "      <th>0</th>\n",
       "      <td>[Snapchat]</td>\n",
       "      <td>0x376b20</td>\n",
       "      <td>People who post \"add me on #Snapchat\" must be ...</td>\n",
       "    </tr>\n",
       "    <tr>\n",
       "      <th>1</th>\n",
       "      <td>[freepress, TrumpLegacy, CNN]</td>\n",
       "      <td>0x2d5350</td>\n",
       "      <td>@brianklaas As we see, Trump is dangerous to #...</td>\n",
       "    </tr>\n",
       "    <tr>\n",
       "      <th>2</th>\n",
       "      <td>[bibleverse]</td>\n",
       "      <td>0x28b412</td>\n",
       "      <td>Confident of your obedience, I write to you, k...</td>\n",
       "    </tr>\n",
       "    <tr>\n",
       "      <th>3</th>\n",
       "      <td>[]</td>\n",
       "      <td>0x1cd5b0</td>\n",
       "      <td>Now ISSA is stalking Tasha 😂😂😂 &lt;LH&gt;</td>\n",
       "    </tr>\n",
       "    <tr>\n",
       "      <th>4</th>\n",
       "      <td>[]</td>\n",
       "      <td>0x2de201</td>\n",
       "      <td>\"Trust is not the same as faith. A friend is s...</td>\n",
       "    </tr>\n",
       "  </tbody>\n",
       "</table>\n",
       "</div>"
      ],
      "text/plain": [
       "                  tweet.hashtags tweet.tweet_id  \\\n",
       "0                     [Snapchat]       0x376b20   \n",
       "1  [freepress, TrumpLegacy, CNN]       0x2d5350   \n",
       "2                   [bibleverse]       0x28b412   \n",
       "3                             []       0x1cd5b0   \n",
       "4                             []       0x2de201   \n",
       "\n",
       "                                          tweet.text  \n",
       "0  People who post \"add me on #Snapchat\" must be ...  \n",
       "1  @brianklaas As we see, Trump is dangerous to #...  \n",
       "2  Confident of your obedience, I write to you, k...  \n",
       "3                Now ISSA is stalking Tasha 😂😂😂 <LH>  \n",
       "4  \"Trust is not the same as faith. A friend is s...  "
      ]
     },
     "execution_count": 46,
     "metadata": {},
     "output_type": "execute_result"
    }
   ],
   "source": [
    "import json\n",
    "from pandas.io.json import json_normalize\n",
    "\n",
    "#used for nested format column['_source']\n",
    "n_tweets = json_normalize(tweets['_source'])\n",
    "\n",
    "n_tweets.head(5)"
   ]
  },
  {
   "cell_type": "code",
   "execution_count": 47,
   "metadata": {
    "ExecuteTime": {
     "end_time": "2019-12-24T08:30:13.176115Z",
     "start_time": "2019-12-24T08:30:13.100286Z"
    }
   },
   "outputs": [
    {
     "data": {
      "text/html": [
       "<div>\n",
       "<style scoped>\n",
       "    .dataframe tbody tr th:only-of-type {\n",
       "        vertical-align: middle;\n",
       "    }\n",
       "\n",
       "    .dataframe tbody tr th {\n",
       "        vertical-align: top;\n",
       "    }\n",
       "\n",
       "    .dataframe thead th {\n",
       "        text-align: right;\n",
       "    }\n",
       "</style>\n",
       "<table border=\"1\" class=\"dataframe\">\n",
       "  <thead>\n",
       "    <tr style=\"text-align: right;\">\n",
       "      <th></th>\n",
       "      <th>hashtags</th>\n",
       "      <th>tweet_id</th>\n",
       "      <th>text</th>\n",
       "    </tr>\n",
       "  </thead>\n",
       "  <tbody>\n",
       "    <tr>\n",
       "      <th>0</th>\n",
       "      <td>[Snapchat]</td>\n",
       "      <td>0x376b20</td>\n",
       "      <td>People who post \"add me on #Snapchat\" must be ...</td>\n",
       "    </tr>\n",
       "    <tr>\n",
       "      <th>1</th>\n",
       "      <td>[freepress, TrumpLegacy, CNN]</td>\n",
       "      <td>0x2d5350</td>\n",
       "      <td>@brianklaas As we see, Trump is dangerous to #...</td>\n",
       "    </tr>\n",
       "    <tr>\n",
       "      <th>2</th>\n",
       "      <td>[bibleverse]</td>\n",
       "      <td>0x28b412</td>\n",
       "      <td>Confident of your obedience, I write to you, k...</td>\n",
       "    </tr>\n",
       "    <tr>\n",
       "      <th>3</th>\n",
       "      <td>[]</td>\n",
       "      <td>0x1cd5b0</td>\n",
       "      <td>Now ISSA is stalking Tasha 😂😂😂 &lt;LH&gt;</td>\n",
       "    </tr>\n",
       "    <tr>\n",
       "      <th>4</th>\n",
       "      <td>[]</td>\n",
       "      <td>0x2de201</td>\n",
       "      <td>\"Trust is not the same as faith. A friend is s...</td>\n",
       "    </tr>\n",
       "  </tbody>\n",
       "</table>\n",
       "</div>"
      ],
      "text/plain": [
       "                        hashtags  tweet_id  \\\n",
       "0                     [Snapchat]  0x376b20   \n",
       "1  [freepress, TrumpLegacy, CNN]  0x2d5350   \n",
       "2                   [bibleverse]  0x28b412   \n",
       "3                             []  0x1cd5b0   \n",
       "4                             []  0x2de201   \n",
       "\n",
       "                                                text  \n",
       "0  People who post \"add me on #Snapchat\" must be ...  \n",
       "1  @brianklaas As we see, Trump is dangerous to #...  \n",
       "2  Confident of your obedience, I write to you, k...  \n",
       "3                Now ISSA is stalking Tasha 😂😂😂 <LH>  \n",
       "4  \"Trust is not the same as faith. A friend is s...  "
      ]
     },
     "execution_count": 47,
     "metadata": {},
     "output_type": "execute_result"
    }
   ],
   "source": [
    "n_tweets.rename(columns={'tweet.hashtags': 'hashtags', 'tweet.text': 'text', 'tweet.tweet_id': 'tweet_id'}, inplace=True)\n",
    "n_tweets.head(5)"
   ]
  },
  {
   "cell_type": "markdown",
   "metadata": {},
   "source": [
    "merge"
   ]
  },
  {
   "cell_type": "code",
   "execution_count": 48,
   "metadata": {
    "ExecuteTime": {
     "end_time": "2019-12-24T08:30:16.393931Z",
     "start_time": "2019-12-24T08:30:13.177680Z"
    }
   },
   "outputs": [
    {
     "data": {
      "text/html": [
       "<div>\n",
       "<style scoped>\n",
       "    .dataframe tbody tr th:only-of-type {\n",
       "        vertical-align: middle;\n",
       "    }\n",
       "\n",
       "    .dataframe tbody tr th {\n",
       "        vertical-align: top;\n",
       "    }\n",
       "\n",
       "    .dataframe thead th {\n",
       "        text-align: right;\n",
       "    }\n",
       "</style>\n",
       "<table border=\"1\" class=\"dataframe\">\n",
       "  <thead>\n",
       "    <tr style=\"text-align: right;\">\n",
       "      <th></th>\n",
       "      <th>hashtags</th>\n",
       "      <th>tweet_id</th>\n",
       "      <th>text</th>\n",
       "      <th>identification</th>\n",
       "      <th>emotion</th>\n",
       "    </tr>\n",
       "  </thead>\n",
       "  <tbody>\n",
       "    <tr>\n",
       "      <th>0</th>\n",
       "      <td>[Snapchat]</td>\n",
       "      <td>0x376b20</td>\n",
       "      <td>People who post \"add me on #Snapchat\" must be ...</td>\n",
       "      <td>train</td>\n",
       "      <td>anticipation</td>\n",
       "    </tr>\n",
       "    <tr>\n",
       "      <th>1</th>\n",
       "      <td>[freepress, TrumpLegacy, CNN]</td>\n",
       "      <td>0x2d5350</td>\n",
       "      <td>@brianklaas As we see, Trump is dangerous to #...</td>\n",
       "      <td>train</td>\n",
       "      <td>sadness</td>\n",
       "    </tr>\n",
       "    <tr>\n",
       "      <th>2</th>\n",
       "      <td>[bibleverse]</td>\n",
       "      <td>0x28b412</td>\n",
       "      <td>Confident of your obedience, I write to you, k...</td>\n",
       "      <td>test</td>\n",
       "      <td>NaN</td>\n",
       "    </tr>\n",
       "    <tr>\n",
       "      <th>3</th>\n",
       "      <td>[]</td>\n",
       "      <td>0x1cd5b0</td>\n",
       "      <td>Now ISSA is stalking Tasha 😂😂😂 &lt;LH&gt;</td>\n",
       "      <td>train</td>\n",
       "      <td>fear</td>\n",
       "    </tr>\n",
       "    <tr>\n",
       "      <th>4</th>\n",
       "      <td>[]</td>\n",
       "      <td>0x2de201</td>\n",
       "      <td>\"Trust is not the same as faith. A friend is s...</td>\n",
       "      <td>test</td>\n",
       "      <td>NaN</td>\n",
       "    </tr>\n",
       "  </tbody>\n",
       "</table>\n",
       "</div>"
      ],
      "text/plain": [
       "                        hashtags  tweet_id  \\\n",
       "0                     [Snapchat]  0x376b20   \n",
       "1  [freepress, TrumpLegacy, CNN]  0x2d5350   \n",
       "2                   [bibleverse]  0x28b412   \n",
       "3                             []  0x1cd5b0   \n",
       "4                             []  0x2de201   \n",
       "\n",
       "                                                text identification  \\\n",
       "0  People who post \"add me on #Snapchat\" must be ...          train   \n",
       "1  @brianklaas As we see, Trump is dangerous to #...          train   \n",
       "2  Confident of your obedience, I write to you, k...           test   \n",
       "3                Now ISSA is stalking Tasha 😂😂😂 <LH>          train   \n",
       "4  \"Trust is not the same as faith. A friend is s...           test   \n",
       "\n",
       "        emotion  \n",
       "0  anticipation  \n",
       "1       sadness  \n",
       "2           NaN  \n",
       "3          fear  \n",
       "4           NaN  "
      ]
     },
     "execution_count": 48,
     "metadata": {},
     "output_type": "execute_result"
    }
   ],
   "source": [
    "merge_data = pd.merge(n_tweets, data_id, how = 'outer',on = ['tweet_id'])\n",
    "merge_data = pd.merge(merge_data,emotion,how = 'outer',on = ['tweet_id'])\n",
    "merge_data.head()"
   ]
  },
  {
   "cell_type": "code",
   "execution_count": 49,
   "metadata": {
    "ExecuteTime": {
     "end_time": "2019-12-24T08:30:16.905136Z",
     "start_time": "2019-12-24T08:30:16.395019Z"
    }
   },
   "outputs": [
    {
     "data": {
      "text/plain": [
       "(1455563, 5)"
      ]
     },
     "execution_count": 49,
     "metadata": {},
     "output_type": "execute_result"
    }
   ],
   "source": [
    "df_train = merge_data[merge_data['identification'] == 'train']\n",
    "df_test = merge_data[merge_data['identification'] == 'test']\n",
    "df_train.shape"
   ]
  },
  {
   "cell_type": "code",
   "execution_count": 50,
   "metadata": {
    "ExecuteTime": {
     "end_time": "2019-12-24T08:30:16.912900Z",
     "start_time": "2019-12-24T08:30:16.906159Z"
    }
   },
   "outputs": [
    {
     "data": {
      "text/html": [
       "<div>\n",
       "<style scoped>\n",
       "    .dataframe tbody tr th:only-of-type {\n",
       "        vertical-align: middle;\n",
       "    }\n",
       "\n",
       "    .dataframe tbody tr th {\n",
       "        vertical-align: top;\n",
       "    }\n",
       "\n",
       "    .dataframe thead th {\n",
       "        text-align: right;\n",
       "    }\n",
       "</style>\n",
       "<table border=\"1\" class=\"dataframe\">\n",
       "  <thead>\n",
       "    <tr style=\"text-align: right;\">\n",
       "      <th></th>\n",
       "      <th>hashtags</th>\n",
       "      <th>tweet_id</th>\n",
       "      <th>text</th>\n",
       "      <th>identification</th>\n",
       "      <th>emotion</th>\n",
       "    </tr>\n",
       "  </thead>\n",
       "  <tbody>\n",
       "    <tr>\n",
       "      <th>0</th>\n",
       "      <td>[Snapchat]</td>\n",
       "      <td>0x376b20</td>\n",
       "      <td>People who post \"add me on #Snapchat\" must be ...</td>\n",
       "      <td>train</td>\n",
       "      <td>anticipation</td>\n",
       "    </tr>\n",
       "    <tr>\n",
       "      <th>1</th>\n",
       "      <td>[freepress, TrumpLegacy, CNN]</td>\n",
       "      <td>0x2d5350</td>\n",
       "      <td>@brianklaas As we see, Trump is dangerous to #...</td>\n",
       "      <td>train</td>\n",
       "      <td>sadness</td>\n",
       "    </tr>\n",
       "    <tr>\n",
       "      <th>3</th>\n",
       "      <td>[]</td>\n",
       "      <td>0x1cd5b0</td>\n",
       "      <td>Now ISSA is stalking Tasha 😂😂😂 &lt;LH&gt;</td>\n",
       "      <td>train</td>\n",
       "      <td>fear</td>\n",
       "    </tr>\n",
       "    <tr>\n",
       "      <th>5</th>\n",
       "      <td>[authentic, LaughOutLoud]</td>\n",
       "      <td>0x1d755c</td>\n",
       "      <td>@RISKshow @TheKevinAllison Thx for the BEST TI...</td>\n",
       "      <td>train</td>\n",
       "      <td>joy</td>\n",
       "    </tr>\n",
       "    <tr>\n",
       "      <th>6</th>\n",
       "      <td>[]</td>\n",
       "      <td>0x2c91a8</td>\n",
       "      <td>Still waiting on those supplies Liscus. &lt;LH&gt;</td>\n",
       "      <td>train</td>\n",
       "      <td>anticipation</td>\n",
       "    </tr>\n",
       "  </tbody>\n",
       "</table>\n",
       "</div>"
      ],
      "text/plain": [
       "                        hashtags  tweet_id  \\\n",
       "0                     [Snapchat]  0x376b20   \n",
       "1  [freepress, TrumpLegacy, CNN]  0x2d5350   \n",
       "3                             []  0x1cd5b0   \n",
       "5      [authentic, LaughOutLoud]  0x1d755c   \n",
       "6                             []  0x2c91a8   \n",
       "\n",
       "                                                text identification  \\\n",
       "0  People who post \"add me on #Snapchat\" must be ...          train   \n",
       "1  @brianklaas As we see, Trump is dangerous to #...          train   \n",
       "3                Now ISSA is stalking Tasha 😂😂😂 <LH>          train   \n",
       "5  @RISKshow @TheKevinAllison Thx for the BEST TI...          train   \n",
       "6       Still waiting on those supplies Liscus. <LH>          train   \n",
       "\n",
       "        emotion  \n",
       "0  anticipation  \n",
       "1       sadness  \n",
       "3          fear  \n",
       "5           joy  \n",
       "6  anticipation  "
      ]
     },
     "execution_count": 50,
     "metadata": {},
     "output_type": "execute_result"
    }
   ],
   "source": [
    "df_train.head()"
   ]
  },
  {
   "cell_type": "code",
   "execution_count": 51,
   "metadata": {
    "ExecuteTime": {
     "end_time": "2019-12-24T08:30:16.916043Z",
     "start_time": "2019-12-24T08:30:16.913861Z"
    }
   },
   "outputs": [
    {
     "data": {
      "text/plain": [
       "(411972, 5)"
      ]
     },
     "execution_count": 51,
     "metadata": {},
     "output_type": "execute_result"
    }
   ],
   "source": [
    "df_test.shape"
   ]
  },
  {
   "cell_type": "markdown",
   "metadata": {},
   "source": [
    "# Save data"
   ]
  },
  {
   "cell_type": "markdown",
   "metadata": {},
   "source": [
    "save our data in Pickle format. The pickle module implements binary protocols for serializing and de-serializing a Python object structure."
   ]
  },
  {
   "cell_type": "code",
   "execution_count": 52,
   "metadata": {
    "ExecuteTime": {
     "end_time": "2019-12-24T08:30:18.810110Z",
     "start_time": "2019-12-24T08:30:16.917056Z"
    }
   },
   "outputs": [],
   "source": [
    "## save to pickle file\n",
    "df_train.to_pickle(\"train_df_Hsiao.pkl\") \n",
    "df_test.to_pickle(\"test_df_Hsiao.pkl\")"
   ]
  },
  {
   "cell_type": "code",
   "execution_count": 53,
   "metadata": {
    "ExecuteTime": {
     "end_time": "2019-12-24T08:30:19.809503Z",
     "start_time": "2019-12-24T08:30:18.811214Z"
    }
   },
   "outputs": [],
   "source": [
    "import pandas as pd\n",
    "\n",
    "## load a pickle file\n",
    "train_df = pd.read_pickle(\"train_df_Hsiao.pkl\")\n",
    "test_df = pd.read_pickle(\"test_df_Hsiao.pkl\")"
   ]
  },
  {
   "cell_type": "code",
   "execution_count": 54,
   "metadata": {
    "ExecuteTime": {
     "end_time": "2019-12-24T08:30:19.817254Z",
     "start_time": "2019-12-24T08:30:19.810602Z"
    }
   },
   "outputs": [
    {
     "data": {
      "text/html": [
       "<div>\n",
       "<style scoped>\n",
       "    .dataframe tbody tr th:only-of-type {\n",
       "        vertical-align: middle;\n",
       "    }\n",
       "\n",
       "    .dataframe tbody tr th {\n",
       "        vertical-align: top;\n",
       "    }\n",
       "\n",
       "    .dataframe thead th {\n",
       "        text-align: right;\n",
       "    }\n",
       "</style>\n",
       "<table border=\"1\" class=\"dataframe\">\n",
       "  <thead>\n",
       "    <tr style=\"text-align: right;\">\n",
       "      <th></th>\n",
       "      <th>hashtags</th>\n",
       "      <th>tweet_id</th>\n",
       "      <th>text</th>\n",
       "      <th>identification</th>\n",
       "      <th>emotion</th>\n",
       "    </tr>\n",
       "  </thead>\n",
       "  <tbody>\n",
       "    <tr>\n",
       "      <th>0</th>\n",
       "      <td>[Snapchat]</td>\n",
       "      <td>0x376b20</td>\n",
       "      <td>People who post \"add me on #Snapchat\" must be ...</td>\n",
       "      <td>train</td>\n",
       "      <td>anticipation</td>\n",
       "    </tr>\n",
       "    <tr>\n",
       "      <th>1</th>\n",
       "      <td>[freepress, TrumpLegacy, CNN]</td>\n",
       "      <td>0x2d5350</td>\n",
       "      <td>@brianklaas As we see, Trump is dangerous to #...</td>\n",
       "      <td>train</td>\n",
       "      <td>sadness</td>\n",
       "    </tr>\n",
       "    <tr>\n",
       "      <th>3</th>\n",
       "      <td>[]</td>\n",
       "      <td>0x1cd5b0</td>\n",
       "      <td>Now ISSA is stalking Tasha 😂😂😂 &lt;LH&gt;</td>\n",
       "      <td>train</td>\n",
       "      <td>fear</td>\n",
       "    </tr>\n",
       "    <tr>\n",
       "      <th>5</th>\n",
       "      <td>[authentic, LaughOutLoud]</td>\n",
       "      <td>0x1d755c</td>\n",
       "      <td>@RISKshow @TheKevinAllison Thx for the BEST TI...</td>\n",
       "      <td>train</td>\n",
       "      <td>joy</td>\n",
       "    </tr>\n",
       "    <tr>\n",
       "      <th>6</th>\n",
       "      <td>[]</td>\n",
       "      <td>0x2c91a8</td>\n",
       "      <td>Still waiting on those supplies Liscus. &lt;LH&gt;</td>\n",
       "      <td>train</td>\n",
       "      <td>anticipation</td>\n",
       "    </tr>\n",
       "  </tbody>\n",
       "</table>\n",
       "</div>"
      ],
      "text/plain": [
       "                        hashtags  tweet_id  \\\n",
       "0                     [Snapchat]  0x376b20   \n",
       "1  [freepress, TrumpLegacy, CNN]  0x2d5350   \n",
       "3                             []  0x1cd5b0   \n",
       "5      [authentic, LaughOutLoud]  0x1d755c   \n",
       "6                             []  0x2c91a8   \n",
       "\n",
       "                                                text identification  \\\n",
       "0  People who post \"add me on #Snapchat\" must be ...          train   \n",
       "1  @brianklaas As we see, Trump is dangerous to #...          train   \n",
       "3                Now ISSA is stalking Tasha 😂😂😂 <LH>          train   \n",
       "5  @RISKshow @TheKevinAllison Thx for the BEST TI...          train   \n",
       "6       Still waiting on those supplies Liscus. <LH>          train   \n",
       "\n",
       "        emotion  \n",
       "0  anticipation  \n",
       "1       sadness  \n",
       "3          fear  \n",
       "5           joy  \n",
       "6  anticipation  "
      ]
     },
     "execution_count": 54,
     "metadata": {},
     "output_type": "execute_result"
    }
   ],
   "source": [
    "train_df.head()"
   ]
  },
  {
   "cell_type": "markdown",
   "metadata": {},
   "source": [
    "# Exploratory data analysis"
   ]
  },
  {
   "cell_type": "code",
   "execution_count": 55,
   "metadata": {
    "ExecuteTime": {
     "end_time": "2019-12-24T08:30:38.401760Z",
     "start_time": "2019-12-24T08:30:38.026527Z"
    }
   },
   "outputs": [
    {
     "data": {
      "text/plain": [
       "emotion\n",
       "anger            39867\n",
       "anticipation    248935\n",
       "disgust         139101\n",
       "fear             63999\n",
       "joy             516017\n",
       "sadness         193437\n",
       "surprise         48729\n",
       "trust           205478\n",
       "Name: text, dtype: int64"
      ]
     },
     "execution_count": 55,
     "metadata": {},
     "output_type": "execute_result"
    }
   ],
   "source": [
    "#group to find distribution\n",
    "train_df.groupby(['emotion']).count()['text']"
   ]
  },
  {
   "cell_type": "code",
   "execution_count": 56,
   "metadata": {
    "ExecuteTime": {
     "end_time": "2019-12-24T08:30:40.648351Z",
     "start_time": "2019-12-24T08:30:40.149627Z"
    }
   },
   "outputs": [
    {
     "data": {
      "image/png": "[encoded data removed]",
      "text/plain": [
       "<Figure size 360x216 with 1 Axes>"
      ]
     },
     "metadata": {
      "needs_background": "light"
     },
     "output_type": "display_data"
    }
   ],
   "source": [
    "%matplotlib inline\n",
    "import numpy as np\n",
    "import matplotlib.pyplot as plt\n",
    "\n",
    "# the histogram of the data\n",
    "labels = train_df['emotion'].unique()\n",
    "post_total = len(train_df)\n",
    "df1 = train_df.groupby(['emotion']).count()['text']\n",
    "df1 = df1.apply(lambda x: round(x*100/post_total,3))\n",
    "\n",
    "#plot\n",
    "fig, ax = plt.subplots(figsize=(5,3))\n",
    "plt.bar(df1.index,df1.values)\n",
    "\n",
    "#arrange\n",
    "plt.ylabel('% of instances')\n",
    "plt.xlabel('Emotion')\n",
    "plt.title('Emotion distribution')\n",
    "plt.xticks(df1.index, rotation='vertical')\n",
    "plt.grid(True)\n",
    "plt.show()"
   ]
  },
  {
   "cell_type": "markdown",
   "metadata": {},
   "source": [
    "# Feature engineering"
   ]
  },
  {
   "cell_type": "code",
   "execution_count": 57,
   "metadata": {
    "ExecuteTime": {
     "end_time": "2019-12-24T08:37:41.750822Z",
     "start_time": "2019-12-24T08:30:47.175460Z"
    }
   },
   "outputs": [
    {
     "data": {
      "text/plain": [
       "(1455563, 500)"
      ]
     },
     "execution_count": 57,
     "metadata": {},
     "output_type": "execute_result"
    }
   ],
   "source": [
    "import nltk\n",
    "from sklearn.feature_extraction.text import CountVectorizer\n",
    "\n",
    "# build analyzers (bag-of-words)\n",
    "BOW_500 = CountVectorizer(max_features=500, tokenizer=nltk.word_tokenize) \n",
    "\n",
    "# apply analyzer to training data\n",
    "BOW_500.fit(train_df['text'])\n",
    "\n",
    "train_data_BOW_features_500 = BOW_500.transform(train_df['text'])\n",
    "\n",
    "## check dimension\n",
    "train_data_BOW_features_500.shape"
   ]
  },
  {
   "cell_type": "code",
   "execution_count": 58,
   "metadata": {
    "ExecuteTime": {
     "end_time": "2019-12-24T08:37:45.764961Z",
     "start_time": "2019-12-24T08:37:41.752152Z"
    }
   },
   "outputs": [
    {
     "data": {
      "text/plain": [
       "array([[0, 1, 0, ..., 0, 0, 0],\n",
       "       [0, 3, 0, ..., 0, 0, 0],\n",
       "       [0, 0, 0, ..., 0, 0, 0],\n",
       "       ...,\n",
       "       [0, 1, 0, ..., 0, 0, 0],\n",
       "       [0, 0, 0, ..., 0, 0, 0],\n",
       "       [0, 1, 0, ..., 0, 0, 0]])"
      ]
     },
     "execution_count": 58,
     "metadata": {},
     "output_type": "execute_result"
    }
   ],
   "source": [
    "train_data_BOW_features_500.toarray()"
   ]
  },
  {
   "cell_type": "code",
   "execution_count": 59,
   "metadata": {
    "ExecuteTime": {
     "end_time": "2019-12-24T08:37:45.771160Z",
     "start_time": "2019-12-24T08:37:45.766301Z"
    }
   },
   "outputs": [
    {
     "data": {
      "text/plain": [
       "['change',\n",
       " 'christ',\n",
       " 'christmas',\n",
       " 'class',\n",
       " 'closed',\n",
       " 'come',\n",
       " 'comes',\n",
       " 'coming',\n",
       " 'could',\n",
       " 'country']"
      ]
     },
     "execution_count": 59,
     "metadata": {},
     "output_type": "execute_result"
    }
   ],
   "source": [
    "feature_names_500 = BOW_500.get_feature_names()\n",
    "feature_names_500[100:110]"
   ]
  },
  {
   "cell_type": "code",
   "execution_count": 60,
   "metadata": {
    "ExecuteTime": {
     "end_time": "2019-12-24T08:37:45.775425Z",
     "start_time": "2019-12-24T08:37:45.772749Z"
    }
   },
   "outputs": [
    {
     "data": {
      "text/plain": [
       "True"
      ]
     },
     "execution_count": 60,
     "metadata": {},
     "output_type": "execute_result"
    }
   ],
   "source": [
    "\"😂\" in feature_names_500"
   ]
  },
  {
   "cell_type": "markdown",
   "metadata": {},
   "source": [
    "# Decision Trees\n",
    "\n",
    "Desion Trees cost too much time and the accuracy is low, so on I try other classifier in the follows."
   ]
  },
  {
   "cell_type": "code",
   "execution_count": 61,
   "metadata": {
    "ExecuteTime": {
     "end_time": "2019-12-24T08:42:14.613670Z",
     "start_time": "2019-12-24T08:37:45.776754Z"
    }
   },
   "outputs": [
    {
     "name": "stdout",
     "output_type": "stream",
     "text": [
      "X_train.shape:  (1455563, 500)\n",
      "y_train.shape:  (1455563,)\n",
      "X_test.shape:  (411972, 500)\n",
      "y_test.shape:  (411972,)\n"
     ]
    }
   ],
   "source": [
    "from sklearn.tree import DecisionTreeClassifier\n",
    "\n",
    "# for a classificaiton problem, you need to provide both training & testing data\n",
    "X_train = BOW_500.transform(train_df['text'])\n",
    "y_train = train_df['emotion']\n",
    "\n",
    "X_test = BOW_500.transform(test_df['text'])\n",
    "y_test = test_df['emotion']\n",
    "\n",
    "## take a look at data dimension is a good habbit  :)\n",
    "print('X_train.shape: ', X_train.shape)\n",
    "print('y_train.shape: ', y_train.shape)\n",
    "print('X_test.shape: ', X_test.shape)\n",
    "print('y_test.shape: ', y_test.shape)\n"
   ]
  },
  {
   "cell_type": "code",
   "execution_count": null,
   "metadata": {
    "ExecuteTime": {
     "end_time": "2019-12-22T04:18:48.911822Z",
     "start_time": "2019-12-22T04:18:48.898850Z"
    }
   },
   "outputs": [],
   "source": []
  },
  {
   "cell_type": "code",
   "execution_count": 62,
   "metadata": {
    "ExecuteTime": {
     "end_time": "2019-12-24T08:42:14.616942Z",
     "start_time": "2019-12-24T08:42:14.614890Z"
    }
   },
   "outputs": [],
   "source": [
    "# ## build DecisionTree model\n",
    "# DT_model = DecisionTreeClassifier(random_state=0)\n",
    "\n",
    "# ## training!\n",
    "# DT_model = DT_model.fit(X_train, y_train)\n",
    "\n",
    "# ## predict!\n",
    "# y_train_pred = DT_model.predict(X_train)\n",
    "# y_test_pred = DT_model.predict(X_test)\n",
    "\n",
    "# ## so we get the pred result\n",
    "# y_test_pred[:10]"
   ]
  },
  {
   "cell_type": "code",
   "execution_count": 63,
   "metadata": {
    "ExecuteTime": {
     "end_time": "2019-12-24T08:42:14.620637Z",
     "start_time": "2019-12-24T08:42:14.618069Z"
    }
   },
   "outputs": [],
   "source": [
    "# ## accuracy\n",
    "# from sklearn.metrics import accuracy_score\n",
    "\n",
    "# acc_train = accuracy_score(y_true=y_train, y_pred=y_train_pred)\n",
    "# acc_test = accuracy_score(y_true=y_test, y_pred=y_test_pred)\n",
    "\n",
    "# print('training accuracy: {}'.format(round(acc_train, 2)))\n",
    "# print('testing accuracy: {}'.format(round(acc_test, 2)))"
   ]
  },
  {
   "cell_type": "code",
   "execution_count": 64,
   "metadata": {
    "ExecuteTime": {
     "end_time": "2019-12-24T08:42:14.623296Z",
     "start_time": "2019-12-24T08:42:14.621778Z"
    }
   },
   "outputs": [],
   "source": [
    "# ## precision, recall, f1-score,\n",
    "# from sklearn.metrics import classification_report\n",
    "\n",
    "# print(classification_report(y_true=y_test, y_pred=y_test_pred))"
   ]
  },
  {
   "cell_type": "code",
   "execution_count": null,
   "metadata": {},
   "outputs": [],
   "source": []
  },
  {
   "cell_type": "markdown",
   "metadata": {},
   "source": [
    "# using different Vectorizers and Classifiers\n",
    "* I first only try 10000 each cut data.\n",
    "* The speed and prefromance of **HashingVectorizer** is better than BOW & TFIDF.\n",
    " * under the best parameter, the post can get 0.38 acc.(with SGDClassifier)\n",
    "* The **GaussianNB** takes too many time and doesn't prefrom well.\n",
    "* The **SGDClassifier** runs super,super,super quick."
   ]
  },
  {
   "cell_type": "code",
   "execution_count": 65,
   "metadata": {
    "ExecuteTime": {
     "end_time": "2019-12-24T08:42:17.740023Z",
     "start_time": "2019-12-24T08:42:14.624181Z"
    }
   },
   "outputs": [],
   "source": [
    "train_df = pd.read_pickle(\"train_df_Hsiao.pkl\")\n",
    "test_df = pd.read_pickle(\"test_df_Hsiao.pkl\")"
   ]
  },
  {
   "cell_type": "code",
   "execution_count": 66,
   "metadata": {
    "ExecuteTime": {
     "end_time": "2019-12-24T08:42:22.789210Z",
     "start_time": "2019-12-24T08:42:17.741379Z"
    }
   },
   "outputs": [],
   "source": [
    "train_df.to_csv('train_df.csv')\n",
    "test_df.to_csv('test_df.csv')"
   ]
  },
  {
   "cell_type": "code",
   "execution_count": 67,
   "metadata": {
    "ExecuteTime": {
     "end_time": "2019-12-24T08:42:22.805209Z",
     "start_time": "2019-12-24T08:42:22.792658Z"
    }
   },
   "outputs": [
    {
     "name": "stdout",
     "output_type": "stream",
     "text": [
      "   Unnamed: 0                             hashtags  tweet_id  \\\n",
      "0           0                         ['Snapchat']  0x376b20   \n",
      "1           1  ['freepress', 'TrumpLegacy', 'CNN']  0x2d5350   \n",
      "2           3                                   []  0x1cd5b0   \n",
      "3           5        ['authentic', 'LaughOutLoud']  0x1d755c   \n",
      "4           6                                   []  0x2c91a8   \n",
      "\n",
      "                                                text identification  \\\n",
      "0  People who post \"add me on #Snapchat\" must be ...          train   \n",
      "1  @brianklaas As we see, Trump is dangerous to #...          train   \n",
      "2                Now ISSA is stalking Tasha 😂😂😂 <LH>          train   \n",
      "3  @RISKshow @TheKevinAllison Thx for the BEST TI...          train   \n",
      "4       Still waiting on those supplies Liscus. <LH>          train   \n",
      "\n",
      "        emotion  \n",
      "0  anticipation  \n",
      "1       sadness  \n",
      "2          fear  \n",
      "3           joy  \n",
      "4  anticipation  \n"
     ]
    }
   ],
   "source": [
    "def get_stream(path, size):\n",
    "    for chunk in pd.read_csv(path, chunksize=size, encoding='utf-8', engine='python'):\n",
    "        yield chunk\n",
    "\n",
    "print(next(get_stream(path='train_df.csv', size=5)))"
   ]
  },
  {
   "cell_type": "code",
   "execution_count": 68,
   "metadata": {
    "ExecuteTime": {
     "end_time": "2019-12-24T08:42:22.813268Z",
     "start_time": "2019-12-24T08:42:22.806768Z"
    }
   },
   "outputs": [
    {
     "data": {
      "text/plain": [
       "'people who post add me on snapchat must be dehydrated cuz man thats '"
      ]
     },
     "execution_count": 68,
     "metadata": {},
     "output_type": "execute_result"
    }
   ],
   "source": [
    "# Removes punctuation, parentheses, question marks, etc., and leaves only alphanumeric characters\n",
    "import re\n",
    "strip_special_chars = re.compile(\"[^A-Za-z0-9 ]+\")\n",
    "\n",
    "def cleanSentences(string):\n",
    "    string = string.replace(\"<LH>\", \"\")\n",
    "    string = string.lower().replace(\"<br />\", \" \")\n",
    "    return re.sub(strip_special_chars, \"\", string.lower())\n",
    "\n",
    "tmp_text = cleanSentences(train_df['text'][0])\n",
    "tmp_text"
   ]
  },
  {
   "cell_type": "code",
   "execution_count": 69,
   "metadata": {
    "ExecuteTime": {
     "end_time": "2019-12-24T08:42:22.816276Z",
     "start_time": "2019-12-24T08:42:22.814498Z"
    }
   },
   "outputs": [],
   "source": [
    "from sklearn.feature_extraction.text import HashingVectorizer\n",
    "from sklearn.linear_model import SGDClassifier\n",
    "from sklearn.metrics import roc_auc_score\n",
    "import nltk"
   ]
  },
  {
   "cell_type": "code",
   "execution_count": 70,
   "metadata": {
    "ExecuteTime": {
     "end_time": "2019-12-24T08:42:23.539915Z",
     "start_time": "2019-12-24T08:42:22.817356Z"
    }
   },
   "outputs": [],
   "source": [
    "classes = np.unique(train_df['emotion'])\n",
    "\n",
    "hashvec = HashingVectorizer(n_features=2**20, strip_accents = 'unicode',tokenizer=nltk.word_tokenize)\n",
    "# using the cleanSentences() doesn't improve the accuracy. QQ\n",
    "# hashvec = hashvec = HashingVectorizer(n_features=2**10, preprocessor=cleanSentences,strip_accents = 'unicode',tokenizer=nltk.word_tokenize)\n",
    "\n",
    "clf = SGDClassifier(loss='modified_huber', max_iter=500)\n",
    "#clf = MultinomialNB()\n",
    "\n",
    "batch_size = 10000\n",
    "stream = get_stream(path='train_df.csv', size=batch_size)\n",
    "\n",
    "train_auc, val_auc = [], []\n",
    "\n",
    "# we use one batch for training and another for validation in each iteration\n",
    "iters = len(train_df)//(batch_size*2)"
   ]
  },
  {
   "cell_type": "code",
   "execution_count": 72,
   "metadata": {
    "ExecuteTime": {
     "end_time": "2019-12-24T08:43:16.237996Z",
     "start_time": "2019-12-24T08:42:44.353592Z"
    }
   },
   "outputs": [
    {
     "name": "stdout",
     "output_type": "stream",
     "text": [
      "[20000/1455563] 0.336000\n",
      "[40000/1455563] 0.376300\n",
      "[60000/1455563] 0.447600\n",
      "[80000/1455563] 0.436400\n",
      "[100000/1455563] 0.405900\n",
      "[120000/1455563] 0.435800\n",
      "[140000/1455563] 0.470200\n",
      "[160000/1455563] 0.474800\n",
      "[180000/1455563] 0.464500\n",
      "[200000/1455563] 0.480800\n",
      "[220000/1455563] 0.483300\n"
     ]
    }
   ],
   "source": [
    "from sklearn.datasets import load_iris\n",
    "from sklearn.feature_selection import SelectKBest\n",
    "from sklearn.feature_selection import chi2\n",
    "\n",
    "for i in range(iters):\n",
    "    batch = next(stream)\n",
    "    batch.dropna(inplace=True)\n",
    "    if len(batch)==0:\n",
    "        print('null')\n",
    "        continue\n",
    "    X_train,y_train = batch['text'],batch['emotion']\n",
    "    if X_train is None:\n",
    "        break  \n",
    "    \n",
    "    X_train = hashvec.transform(X_train)\n",
    "#     X_train = SelectKBest(chi2, k=300).fit_transform(X_train, y_train)\n",
    "#     print(X_new.shape)\n",
    "\n",
    "    clf.partial_fit(X_train, y_train, classes=classes)\n",
    "    acc = 0\n",
    "    count = 0\n",
    "    train_pred = clf.predict(X_train)\n",
    "    for j in y_train:\n",
    "        if j == train_pred[count]:\n",
    "            acc += 1\n",
    "        count += 1\n",
    "    train_auc.append(acc/batch_size)\n",
    "    \n",
    "    # validate\n",
    "    batch = next(stream)\n",
    "    batch.dropna(inplace=True)\n",
    "    if len(batch)==0:\n",
    "        print('null')\n",
    "        continue\n",
    "    X_val, y_val = batch['text'],batch['emotion']\n",
    "    \n",
    "    X_val = hashvec.transform(X_val)\n",
    "    acc = 0\n",
    "    count = 0\n",
    "    test_pred = clf.predict(X_val)\n",
    "    for j in y_val:\n",
    "        if j == test_pred[count]:\n",
    "            acc += 1\n",
    "        count += 1\n",
    "    val_auc.append(acc/batch_size)\n",
    "    print('[%d/%d] %f' % ((i+1)*(batch_size*2), len(train_df), acc/batch_size))\n",
    "    \n",
    "    if i == 10:\n",
    "        break"
   ]
  },
  {
   "cell_type": "markdown",
   "metadata": {},
   "source": [
    "The above show the experiments processes.\n",
    "\n",
    "Running 10-20% of all data can find that the result already become converge.\n",
    "\n",
    "The following plot shows that."
   ]
  },
  {
   "cell_type": "code",
   "execution_count": 73,
   "metadata": {
    "ExecuteTime": {
     "end_time": "2019-12-24T08:43:16.526211Z",
     "start_time": "2019-12-24T08:43:16.239192Z"
    }
   },
   "outputs": [
    {
     "data": {
      "image/png": "[encoded data removed]",
      "text/plain": [
       "<Figure size 432x288 with 1 Axes>"
      ]
     },
     "metadata": {
      "needs_background": "light"
     },
     "output_type": "display_data"
    }
   ],
   "source": [
    "import matplotlib.pyplot as plt\n",
    "\n",
    "plt.plot(range(1, len(train_auc)+1), train_auc, color='blue', label='Train auc')\n",
    "plt.plot(range(1, len(train_auc)+1), val_auc, color='red', label='Val auc')\n",
    "plt.legend(loc=\"best\")\n",
    "plt.xlabel('#Batches')\n",
    "plt.ylabel('Auc')\n",
    "plt.tight_layout()\n",
    "plt.savefig('./fig-out-of-core.png', dpi=300)\n",
    "plt.show()"
   ]
  },
  {
   "cell_type": "code",
   "execution_count": 74,
   "metadata": {
    "ExecuteTime": {
     "end_time": "2019-12-24T08:44:19.425331Z",
     "start_time": "2019-12-24T08:43:16.527155Z"
    }
   },
   "outputs": [],
   "source": [
    "X_val = hashvec.transform(test_df['text'])\n",
    "pred = clf.predict(X_val)"
   ]
  },
  {
   "cell_type": "code",
   "execution_count": 75,
   "metadata": {
    "ExecuteTime": {
     "end_time": "2019-12-24T08:44:19.819926Z",
     "start_time": "2019-12-24T08:44:19.426547Z"
    }
   },
   "outputs": [],
   "source": [
    "test_df['emotion'] = pred\n",
    "test_df['id'] = test_df['tweet_id']\n",
    "test_df.to_csv('output.csv', columns=['id', 'emotion'], index=False)"
   ]
  },
  {
   "cell_type": "code",
   "execution_count": 76,
   "metadata": {
    "ExecuteTime": {
     "end_time": "2019-12-24T08:44:19.828390Z",
     "start_time": "2019-12-24T08:44:19.821183Z"
    }
   },
   "outputs": [
    {
     "data": {
      "text/html": [
       "<div>\n",
       "<style scoped>\n",
       "    .dataframe tbody tr th:only-of-type {\n",
       "        vertical-align: middle;\n",
       "    }\n",
       "\n",
       "    .dataframe tbody tr th {\n",
       "        vertical-align: top;\n",
       "    }\n",
       "\n",
       "    .dataframe thead th {\n",
       "        text-align: right;\n",
       "    }\n",
       "</style>\n",
       "<table border=\"1\" class=\"dataframe\">\n",
       "  <thead>\n",
       "    <tr style=\"text-align: right;\">\n",
       "      <th></th>\n",
       "      <th>hashtags</th>\n",
       "      <th>tweet_id</th>\n",
       "      <th>text</th>\n",
       "      <th>identification</th>\n",
       "      <th>emotion</th>\n",
       "      <th>id</th>\n",
       "    </tr>\n",
       "  </thead>\n",
       "  <tbody>\n",
       "    <tr>\n",
       "      <th>2</th>\n",
       "      <td>[bibleverse]</td>\n",
       "      <td>0x28b412</td>\n",
       "      <td>Confident of your obedience, I write to you, k...</td>\n",
       "      <td>test</td>\n",
       "      <td>anticipation</td>\n",
       "      <td>0x28b412</td>\n",
       "    </tr>\n",
       "    <tr>\n",
       "      <th>4</th>\n",
       "      <td>[]</td>\n",
       "      <td>0x2de201</td>\n",
       "      <td>\"Trust is not the same as faith. A friend is s...</td>\n",
       "      <td>test</td>\n",
       "      <td>anticipation</td>\n",
       "      <td>0x2de201</td>\n",
       "    </tr>\n",
       "    <tr>\n",
       "      <th>9</th>\n",
       "      <td>[materialism, money, possessions]</td>\n",
       "      <td>0x218443</td>\n",
       "      <td>When do you have enough ? When are you satisfi...</td>\n",
       "      <td>test</td>\n",
       "      <td>disgust</td>\n",
       "      <td>0x218443</td>\n",
       "    </tr>\n",
       "    <tr>\n",
       "      <th>30</th>\n",
       "      <td>[GodsPlan, GodsWork]</td>\n",
       "      <td>0x2939d5</td>\n",
       "      <td>God woke you up, now chase the day #GodsPlan #...</td>\n",
       "      <td>test</td>\n",
       "      <td>joy</td>\n",
       "      <td>0x2939d5</td>\n",
       "    </tr>\n",
       "    <tr>\n",
       "      <th>33</th>\n",
       "      <td>[]</td>\n",
       "      <td>0x26289a</td>\n",
       "      <td>In these tough times, who do YOU turn to as yo...</td>\n",
       "      <td>test</td>\n",
       "      <td>trust</td>\n",
       "      <td>0x26289a</td>\n",
       "    </tr>\n",
       "  </tbody>\n",
       "</table>\n",
       "</div>"
      ],
      "text/plain": [
       "                             hashtags  tweet_id  \\\n",
       "2                        [bibleverse]  0x28b412   \n",
       "4                                  []  0x2de201   \n",
       "9   [materialism, money, possessions]  0x218443   \n",
       "30               [GodsPlan, GodsWork]  0x2939d5   \n",
       "33                                 []  0x26289a   \n",
       "\n",
       "                                                 text identification  \\\n",
       "2   Confident of your obedience, I write to you, k...           test   \n",
       "4   \"Trust is not the same as faith. A friend is s...           test   \n",
       "9   When do you have enough ? When are you satisfi...           test   \n",
       "30  God woke you up, now chase the day #GodsPlan #...           test   \n",
       "33  In these tough times, who do YOU turn to as yo...           test   \n",
       "\n",
       "         emotion        id  \n",
       "2   anticipation  0x28b412  \n",
       "4   anticipation  0x2de201  \n",
       "9        disgust  0x218443  \n",
       "30           joy  0x2939d5  \n",
       "33         trust  0x26289a  "
      ]
     },
     "execution_count": 76,
     "metadata": {},
     "output_type": "execute_result"
    }
   ],
   "source": [
    "test_df.head()"
   ]
  },
  {
   "cell_type": "markdown",
   "metadata": {},
   "source": [
    "# select feature"
   ]
  },
  {
   "cell_type": "markdown",
   "metadata": {},
   "source": [
    "after compare SGD with GaussianNB, hashvec and BOW, I use the selectKbest with BOW in SGD, however it didn't get better performance than hashvec "
   ]
  },
  {
   "cell_type": "code",
   "execution_count": 77,
   "metadata": {
    "ExecuteTime": {
     "end_time": "2019-12-24T08:44:21.141212Z",
     "start_time": "2019-12-24T08:44:19.829472Z"
    }
   },
   "outputs": [],
   "source": [
    "train_df = pd.read_pickle(\"train_df_Hsiao.pkl\")\n",
    "test_df = pd.read_pickle(\"test_df_Hsiao.pkl\")"
   ]
  },
  {
   "cell_type": "code",
   "execution_count": 78,
   "metadata": {
    "ExecuteTime": {
     "end_time": "2019-12-24T08:44:26.237579Z",
     "start_time": "2019-12-24T08:44:21.142483Z"
    }
   },
   "outputs": [],
   "source": [
    "train_df.to_csv('train_df.csv')\n",
    "test_df.to_csv('test_df.csv')"
   ]
  },
  {
   "cell_type": "code",
   "execution_count": 79,
   "metadata": {
    "ExecuteTime": {
     "end_time": "2019-12-24T08:44:26.244661Z",
     "start_time": "2019-12-24T08:44:26.238711Z"
    }
   },
   "outputs": [
    {
     "name": "stdout",
     "output_type": "stream",
     "text": [
      "   Unnamed: 0                             hashtags  tweet_id  \\\n",
      "0           0                         ['Snapchat']  0x376b20   \n",
      "1           1  ['freepress', 'TrumpLegacy', 'CNN']  0x2d5350   \n",
      "2           3                                   []  0x1cd5b0   \n",
      "3           5        ['authentic', 'LaughOutLoud']  0x1d755c   \n",
      "4           6                                   []  0x2c91a8   \n",
      "\n",
      "                                                text identification  \\\n",
      "0  People who post \"add me on #Snapchat\" must be ...          train   \n",
      "1  @brianklaas As we see, Trump is dangerous to #...          train   \n",
      "2                Now ISSA is stalking Tasha 😂😂😂 <LH>          train   \n",
      "3  @RISKshow @TheKevinAllison Thx for the BEST TI...          train   \n",
      "4       Still waiting on those supplies Liscus. <LH>          train   \n",
      "\n",
      "        emotion  \n",
      "0  anticipation  \n",
      "1       sadness  \n",
      "2          fear  \n",
      "3           joy  \n",
      "4  anticipation  \n"
     ]
    }
   ],
   "source": [
    "def get_stream(path, size):\n",
    "    for chunk in pd.read_csv(path, chunksize=size, encoding='utf-8', engine='python'):\n",
    "        yield chunk\n",
    "\n",
    "print(next(get_stream(path='train_df.csv', size=5)))"
   ]
  },
  {
   "cell_type": "code",
   "execution_count": 80,
   "metadata": {
    "ExecuteTime": {
     "end_time": "2019-12-24T08:44:26.366611Z",
     "start_time": "2019-12-24T08:44:26.245672Z"
    }
   },
   "outputs": [
    {
     "data": {
      "text/plain": [
       "'people who post add me on snapchat must be dehydrated cuz man thats '"
      ]
     },
     "execution_count": 80,
     "metadata": {},
     "output_type": "execute_result"
    }
   ],
   "source": [
    "# Removes punctuation, parentheses, question marks, etc., and leaves only alphanumeric characters\n",
    "import re\n",
    "strip_special_chars = re.compile(\"[^A-Za-z0-9 ]+\")\n",
    "\n",
    "def cleanSentences(string):\n",
    "    string = string.replace(\"<LH>\", \"\")\n",
    "    string = string.lower().replace(\"<br />\", \" \")\n",
    "    return re.sub(strip_special_chars, \"\", string.lower())\n",
    "\n",
    "tmp_text = cleanSentences(train_df['text'][0])\n",
    "tmp_text"
   ]
  },
  {
   "cell_type": "code",
   "execution_count": 81,
   "metadata": {
    "ExecuteTime": {
     "end_time": "2019-12-24T08:44:26.369266Z",
     "start_time": "2019-12-24T08:44:26.367569Z"
    }
   },
   "outputs": [],
   "source": [
    "from sklearn.feature_extraction.text import HashingVectorizer\n",
    "from sklearn.linear_model import SGDClassifier\n",
    "from sklearn.metrics import roc_auc_score\n",
    "import nltk"
   ]
  },
  {
   "cell_type": "code",
   "execution_count": 82,
   "metadata": {
    "ExecuteTime": {
     "end_time": "2019-12-24T08:51:26.500925Z",
     "start_time": "2019-12-24T08:44:26.370218Z"
    }
   },
   "outputs": [
    {
     "data": {
      "text/plain": [
       "(1455563, 10000)"
      ]
     },
     "execution_count": 82,
     "metadata": {},
     "output_type": "execute_result"
    }
   ],
   "source": [
    "import nltk\n",
    "from sklearn.feature_extraction.text import CountVectorizer\n",
    "\n",
    "# build analyzers (bag-of-words)\n",
    "BOW_500 = CountVectorizer(max_features=10000, tokenizer=nltk.word_tokenize) \n",
    "\n",
    "# apply analyzer to training data\n",
    "BOW_500.fit(train_df['text'])\n",
    "\n",
    "train_data_BOW_features_500 = BOW_500.transform(train_df['text'])\n",
    "\n",
    "## check dimension\n",
    "train_data_BOW_features_500.shape"
   ]
  },
  {
   "cell_type": "code",
   "execution_count": 83,
   "metadata": {
    "ExecuteTime": {
     "end_time": "2019-12-24T08:51:26.503862Z",
     "start_time": "2019-12-24T08:51:26.502035Z"
    }
   },
   "outputs": [],
   "source": [
    "# from sklearn.tree import DecisionTreeClassifier\n",
    "\n",
    "# # for a classificaiton problem, you need to provide both training & testing data\n",
    "# X_train = BOW_500.transform(train_df['text'])\n",
    "# y_train = train_df['emotion']\n",
    "\n",
    "# X_test = BOW_500.transform(test_df['text'])\n",
    "# y_test = test_df['emotion']\n",
    "\n",
    "# ## take a look at data dimension is a good habbit  :)\n",
    "# print('X_train.shape: ', X_train.shape)\n",
    "# print('y_train.shape: ', y_train.shape)\n",
    "# print('X_test.shape: ', X_test.shape)\n",
    "# print('y_test.shape: ', y_test.shape)"
   ]
  },
  {
   "cell_type": "code",
   "execution_count": 84,
   "metadata": {
    "ExecuteTime": {
     "end_time": "2019-12-24T08:51:27.211113Z",
     "start_time": "2019-12-24T08:51:26.505020Z"
    }
   },
   "outputs": [],
   "source": [
    "classes = np.unique(train_df['emotion'])\n",
    "\n",
    "hashvec = HashingVectorizer(n_features=2**20, strip_accents = 'unicode',tokenizer=nltk.word_tokenize)\n",
    "# using the cleanSentences() doesn't improve the accuracy. QQ\n",
    "# hashvec = hashvec = HashingVectorizer(n_features=2**10, preprocessor=cleanSentences,strip_accents = 'unicode',tokenizer=nltk.word_tokenize)\n",
    "\n",
    "clf = SGDClassifier(loss='modified_huber', max_iter=500)\n",
    "#clf = MultinomialNB()\n",
    "\n",
    "batch_size = 10000\n",
    "stream = get_stream(path='train_df.csv', size=batch_size)\n",
    "\n",
    "train_auc, val_auc = [], []\n",
    "\n",
    "# we use one batch for training and another for validation in each iteration\n",
    "iters = len(train_df)//(batch_size*2)"
   ]
  },
  {
   "cell_type": "code",
   "execution_count": 85,
   "metadata": {
    "ExecuteTime": {
     "end_time": "2019-12-24T08:52:00.574022Z",
     "start_time": "2019-12-24T08:51:27.212187Z"
    }
   },
   "outputs": [
    {
     "name": "stdout",
     "output_type": "stream",
     "text": [
      "(9990, 2000)\n",
      "[20000/1455563] 0.172400\n",
      "(9982, 2000)\n",
      "[40000/1455563] 0.200200\n",
      "(9994, 2000)\n",
      "[60000/1455563] 0.097300\n",
      "(9969, 2000)\n",
      "[80000/1455563] 0.176800\n",
      "(9986, 2000)\n",
      "[100000/1455563] 0.091400\n",
      "(9976, 2000)\n",
      "[120000/1455563] 0.107700\n",
      "(9976, 2000)\n",
      "[140000/1455563] 0.155600\n",
      "(9988, 2000)\n",
      "[160000/1455563] 0.107000\n",
      "(9992, 2000)\n",
      "[180000/1455563] 0.132800\n",
      "(9974, 2000)\n",
      "[200000/1455563] 0.144000\n",
      "(9963, 2000)\n",
      "[220000/1455563] 0.123000\n"
     ]
    }
   ],
   "source": [
    "from sklearn.datasets import load_iris\n",
    "from sklearn.feature_selection import SelectKBest\n",
    "from sklearn.feature_selection import chi2\n",
    "\n",
    "for i in range(iters):\n",
    "    batch = next(stream)\n",
    "    batch.dropna(inplace=True)\n",
    "    if len(batch)==0:\n",
    "        print('null')\n",
    "        continue\n",
    "    X_train,y_train = batch['text'],batch['emotion']\n",
    "    if X_train is None:\n",
    "        break  \n",
    "    \n",
    "    X_train = BOW_500.transform(X_train)\n",
    "    X_train = SelectKBest(chi2, k=2000).fit_transform(X_train, y_train)\n",
    "    print(X_train.shape)\n",
    "\n",
    "    clf.partial_fit(X_train, y_train, classes=classes)\n",
    "    acc = 0\n",
    "    count = 0\n",
    "    train_pred = clf.predict(X_train)\n",
    "    for j in y_train:\n",
    "        if j == train_pred[count]:\n",
    "            acc += 1\n",
    "        count += 1\n",
    "    train_auc.append(acc/batch_size)\n",
    "    \n",
    "    # validate\n",
    "    batch = next(stream)\n",
    "    batch.dropna(inplace=True)\n",
    "    if len(batch)==0:\n",
    "        print('null')\n",
    "        continue\n",
    "    X_val, y_val = batch['text'],batch['emotion']\n",
    "    \n",
    "    X_val = BOW_500.transform(X_val)\n",
    "    X_val = SelectKBest(chi2, k=2000).fit_transform(X_val, y_val)\n",
    "    acc = 0\n",
    "    count = 0\n",
    "    test_pred = clf.predict(X_val)\n",
    "    for j in y_val:\n",
    "        if j == test_pred[count]:\n",
    "            acc += 1\n",
    "        count += 1\n",
    "    val_auc.append(acc/batch_size)\n",
    "    print('[%d/%d] %f' % ((i+1)*(batch_size*2), len(train_df), acc/batch_size))\n",
    "    \n",
    "    if i == 10:\n",
    "        break"
   ]
  },
  {
   "cell_type": "code",
   "execution_count": 86,
   "metadata": {
    "ExecuteTime": {
     "end_time": "2019-12-24T08:52:00.869465Z",
     "start_time": "2019-12-24T08:52:00.575058Z"
    }
   },
   "outputs": [
    {
     "data": {
      "image/png": "[encoded data removed]",
      "text/plain": [
       "<Figure size 432x288 with 1 Axes>"
      ]
     },
     "metadata": {
      "needs_background": "light"
     },
     "output_type": "display_data"
    }
   ],
   "source": [
    "import matplotlib.pyplot as plt\n",
    "\n",
    "plt.plot(range(1, len(train_auc)+1), train_auc, color='blue', label='Train auc')\n",
    "plt.plot(range(1, len(train_auc)+1), val_auc, color='red', label='Val auc')\n",
    "plt.legend(loc=\"best\")\n",
    "plt.xlabel('#Batches')\n",
    "plt.ylabel('Auc')\n",
    "plt.tight_layout()\n",
    "plt.savefig('./fig-out-of-core.png', dpi=300)\n",
    "plt.show()"
   ]
  },
  {
   "cell_type": "code",
   "execution_count": 89,
   "metadata": {
    "ExecuteTime": {
     "end_time": "2019-12-24T08:59:06.178775Z",
     "start_time": "2019-12-24T08:59:06.173772Z"
    }
   },
   "outputs": [],
   "source": [
    "\n",
    "# X_val = BOW_500.transform(test_df['text'])\n",
    "# X_val = SelectKBest(chi2, k=2000).fit_transform(X_val, test_df['emotion'])\n",
    "# pred = clf.predict(X_val)"
   ]
  },
  {
   "cell_type": "code",
   "execution_count": 90,
   "metadata": {
    "ExecuteTime": {
     "end_time": "2019-12-24T08:59:07.270041Z",
     "start_time": "2019-12-24T08:59:06.878262Z"
    }
   },
   "outputs": [],
   "source": [
    "test_df['emotion'] = pred\n",
    "test_df['id'] = test_df['tweet_id']\n",
    "test_df.to_csv('output.csv', columns=['id', 'emotion'], index=False)"
   ]
  },
  {
   "cell_type": "markdown",
   "metadata": {},
   "source": [
    "# XGBoost\n",
    "the XGBoost's accuracy is worse than SGD classifier"
   ]
  },
  {
   "cell_type": "code",
   "execution_count": 91,
   "metadata": {
    "ExecuteTime": {
     "end_time": "2019-12-24T08:59:12.984172Z",
     "start_time": "2019-12-24T08:59:09.243174Z"
    }
   },
   "outputs": [],
   "source": [
    "import pandas as pd\n",
    "train_df = pd.read_pickle(\"train_df_Hsiao.pkl\")\n",
    "test_df = pd.read_pickle(\"test_df_Hsiao.pkl\")"
   ]
  },
  {
   "cell_type": "code",
   "execution_count": 92,
   "metadata": {
    "ExecuteTime": {
     "end_time": "2019-12-24T09:06:21.262782Z",
     "start_time": "2019-12-24T08:59:12.985419Z"
    }
   },
   "outputs": [
    {
     "data": {
      "text/plain": [
       "(1455563, 10000)"
      ]
     },
     "execution_count": 92,
     "metadata": {},
     "output_type": "execute_result"
    }
   ],
   "source": [
    "import nltk\n",
    "from sklearn.feature_extraction.text import CountVectorizer\n",
    "\n",
    "# build analyzers (bag-of-words)\n",
    "BOW_500 = CountVectorizer(max_features=10000, tokenizer=nltk.word_tokenize) \n",
    "\n",
    "# apply analyzer to training data\n",
    "BOW_500.fit(train_df['text'])\n",
    "\n",
    "train_data_BOW_features_500 = BOW_500.transform(train_df['text'])\n",
    "\n",
    "## check dimension\n",
    "train_data_BOW_features_500.shape"
   ]
  },
  {
   "cell_type": "code",
   "execution_count": 93,
   "metadata": {
    "ExecuteTime": {
     "end_time": "2019-12-24T09:11:00.669919Z",
     "start_time": "2019-12-24T09:06:21.263890Z"
    }
   },
   "outputs": [
    {
     "name": "stdout",
     "output_type": "stream",
     "text": [
      "X_train.shape:  (1455563, 10000)\n",
      "y_train.shape:  (1455563,)\n",
      "X_test.shape:  (411972, 10000)\n",
      "y_test.shape:  (411972,)\n"
     ]
    }
   ],
   "source": [
    "\n",
    "\n",
    "# for a classificaiton problem, you need to provide both training & testing data\n",
    "X_train = BOW_500.transform(train_df['text'])\n",
    "y_train = train_df['emotion']\n",
    "\n",
    "X_test = BOW_500.transform(test_df['text'])\n",
    "y_test = test_df['emotion']\n",
    "\n",
    "## take a look at data dimension is a good habbit  :)\n",
    "print('X_train.shape: ', X_train.shape)\n",
    "print('y_train.shape: ', y_train.shape)\n",
    "print('X_test.shape: ', X_test.shape)\n",
    "print('y_test.shape: ', y_test.shape)"
   ]
  },
  {
   "cell_type": "code",
   "execution_count": null,
   "metadata": {},
   "outputs": [],
   "source": []
  },
  {
   "cell_type": "code",
   "execution_count": null,
   "metadata": {},
   "outputs": [],
   "source": []
  },
  {
   "cell_type": "code",
   "execution_count": 94,
   "metadata": {
    "ExecuteTime": {
     "end_time": "2019-12-24T09:24:46.635158Z",
     "start_time": "2019-12-24T09:11:00.671103Z"
    }
   },
   "outputs": [
    {
     "data": {
      "text/plain": [
       "XGBClassifier(base_score=0.5, booster='gbtree', colsample_bylevel=1,\n",
       "       colsample_bynode=1, colsample_bytree=1, gamma=0, learning_rate=0.1,\n",
       "       max_delta_step=0, max_depth=3, min_child_weight=1, missing=None,\n",
       "       n_estimators=100, n_jobs=1, nthread=None,\n",
       "       objective='multi:softprob', random_state=0, reg_alpha=0,\n",
       "       reg_lambda=1, scale_pos_weight=1, seed=None, silent=None,\n",
       "       subsample=1, verbosity=1)"
      ]
     },
     "execution_count": 94,
     "metadata": {},
     "output_type": "execute_result"
    }
   ],
   "source": [
    "# plot feature importance using built-in function\n",
    "from numpy import loadtxt\n",
    "from xgboost.sklearn import XGBClassifier\n",
    "from xgboost import plot_importance\n",
    "from matplotlib import pyplot\n",
    "\n",
    "model = XGBClassifier()\n",
    "model.fit(X_train, y_train)\n"
   ]
  },
  {
   "cell_type": "code",
   "execution_count": null,
   "metadata": {
    "ExecuteTime": {
     "start_time": "2019-12-24T14:51:35.268Z"
    }
   },
   "outputs": [],
   "source": [
    "y_train_pred = model.predict(X_train)\n",
    "y_test_pred = model.predict(X_test)\n",
    "\n",
    "## so we get the pred result\n",
    "y_test_pred[:10]\n",
    "y_test_pred.shape"
   ]
  },
  {
   "cell_type": "code",
   "execution_count": null,
   "metadata": {
    "ExecuteTime": {
     "start_time": "2019-12-24T14:50:24.331Z"
    }
   },
   "outputs": [],
   "source": [
    "## accuracy\n",
    "from sklearn.metrics import accuracy_score\n",
    "\n",
    "acc_train = accuracy_score(y_true=y_train, y_pred=y_train_pred)\n",
    "# acc_test = accuracy_score(y_true=y_test, y_pred=y_test_pred)\n",
    "\n",
    "print('training accuracy: {}'.format(round(acc_train, 2)))\n",
    "# print('testing accuracy: {}'.format(round(acc_test, 2)))"
   ]
  },
  {
   "cell_type": "code",
   "execution_count": null,
   "metadata": {
    "ExecuteTime": {
     "end_time": "2019-12-24T09:25:22.064131Z",
     "start_time": "2019-12-24T08:58:53.409Z"
    }
   },
   "outputs": [],
   "source": [
    "test_df['emotion'] = y_test_pred\n",
    "test_df['id'] = test_df['tweet_id']\n",
    "test_df.to_csv('output_xgboost.csv', columns=['id', 'emotion'], index=False)"
   ]
  },
  {
   "cell_type": "markdown",
   "metadata": {},
   "source": [
    "# Deep Learning\n",
    "\n",
    "Deep learning performe the best score 0.42 in puiblic, I think if I have time to do more preprocessing it can be more better."
   ]
  },
  {
   "cell_type": "code",
   "execution_count": null,
   "metadata": {
    "ExecuteTime": {
     "end_time": "2019-12-24T09:25:22.065545Z",
     "start_time": "2019-12-24T08:58:53.755Z"
    }
   },
   "outputs": [],
   "source": [
    "import pandas as pd\n",
    "import numpy as np\n",
    "import json\n",
    "from pandas.io.json import json_normalize\n",
    "import re, csv\n",
    "from nltk.corpus import stopwords\n",
    "import nltk\n",
    "import string\n",
    "from nltk import word_tokenize\n",
    "from gensim.models import KeyedVectors   "
   ]
  },
  {
   "cell_type": "code",
   "execution_count": null,
   "metadata": {
    "ExecuteTime": {
     "end_time": "2019-12-24T09:25:22.066118Z",
     "start_time": "2019-12-24T08:58:53.940Z"
    }
   },
   "outputs": [],
   "source": [
    "## load a pickle file\n",
    "trains = pd.read_pickle(\"train_df_Hsiao.pkl\")\n",
    "tests = pd.read_pickle(\"test_df_Hsiao.pkl\")"
   ]
  },
  {
   "cell_type": "code",
   "execution_count": null,
   "metadata": {
    "ExecuteTime": {
     "end_time": "2019-12-24T09:25:22.066659Z",
     "start_time": "2019-12-24T08:58:54.127Z"
    }
   },
   "outputs": [],
   "source": [
    "from nltk.tokenize import TweetTokenizer\n",
    "from nltk.corpus import stopwords\n",
    "from sklearn.feature_extraction.text import HashingVectorizer\n",
    "\n",
    "tknzr = TweetTokenizer()\n",
    "# TF-IDF\n",
    "\n",
    "from sklearn.feature_extraction.text import TfidfVectorizer\n",
    "\n",
    "hashvec = HashingVectorizer(n_features=5000, strip_accents = 'unicode',tokenizer=nltk.word_tokenize)\n",
    "\n",
    "tfidf_vectorizer = TfidfVectorizer(\n",
    "    max_features=5000, \n",
    "    use_idf=True, \n",
    "#    token_pattern=u'(?u)\\\\b\\[^\\\\d\\\\W][^\\\\d\\\\W]+\\\\b', \n",
    "    tokenizer=tknzr.tokenize,\n",
    "    stop_words=stopwords.words('english'))\n",
    "\n",
    "#tdidf_matrix = tfidf_vectorizer.fit_transform(trains['text'])\n",
    "tfidf_vectorizer.fit(trains['text'])"
   ]
  },
  {
   "cell_type": "code",
   "execution_count": null,
   "metadata": {
    "ExecuteTime": {
     "end_time": "2019-12-24T09:25:22.067183Z",
     "start_time": "2019-12-24T08:58:54.308Z"
    }
   },
   "outputs": [],
   "source": [
    "print(tfidf_vectorizer.get_feature_names()[:100])\n",
    "print(tfidf_vectorizer.get_feature_names()[-100:])\n",
    "len(tfidf_vectorizer.get_feature_names())"
   ]
  },
  {
   "cell_type": "code",
   "execution_count": null,
   "metadata": {
    "ExecuteTime": {
     "end_time": "2019-12-24T09:25:22.067763Z",
     "start_time": "2019-12-24T08:58:54.507Z"
    }
   },
   "outputs": [],
   "source": [
    "sep = int(trains.shape[0] * 0.8) # 20% for validation\n",
    "\n",
    "BOW_train = trains[:sep]\n",
    "BOW_train_label = trains.emotion[:sep]\n",
    "BOW_test = trains[sep:]\n",
    "BOW_test_label = trains.emotion[sep:]\n",
    "\n",
    "print(BOW_train.shape)\n",
    "print(BOW_train_label.shape)\n",
    "print(BOW_test.shape)\n",
    "print(BOW_test_label.shape)"
   ]
  },
  {
   "cell_type": "code",
   "execution_count": null,
   "metadata": {
    "ExecuteTime": {
     "end_time": "2019-12-24T09:25:22.068374Z",
     "start_time": "2019-12-24T08:58:54.704Z"
    }
   },
   "outputs": [],
   "source": [
    "import keras\n",
    "\n",
    "# standardize name (X, y) \n",
    "\n",
    "\n",
    "X_train = tfidf_vectorizer.transform(BOW_train['text'])\n",
    "y_train = BOW_train_label\n",
    "\n",
    "X_test = tfidf_vectorizer.transform(BOW_test['text'])\n",
    "y_test = BOW_test_label\n",
    "\n",
    "## check dimension is a good habbit \n",
    "print('X_train.shape: ', X_train.shape)\n",
    "print('y_train.shape: ', y_train.shape)\n",
    "print('X_test.shape: ', X_test.shape)\n",
    "print('y_test.shape: ', y_test.shape)"
   ]
  },
  {
   "cell_type": "code",
   "execution_count": null,
   "metadata": {
    "ExecuteTime": {
     "end_time": "2019-12-24T09:25:22.068896Z",
     "start_time": "2019-12-24T08:58:54.983Z"
    }
   },
   "outputs": [],
   "source": [
    "## deal with label (string -> one-hot)\n",
    "\n",
    "from sklearn.preprocessing import LabelEncoder\n",
    "\n",
    "label_encoder = LabelEncoder()\n",
    "label_encoder.fit(y_train)\n",
    "print('check label: ', label_encoder.classes_)\n",
    "print('\\n## Before convert')\n",
    "print('y_train[0:7]:\\n', y_train[0:7])\n",
    "print('\\ny_train.shape: ', y_train.shape)\n",
    "print('y_test.shape: ', y_test.shape)"
   ]
  },
  {
   "cell_type": "code",
   "execution_count": null,
   "metadata": {
    "ExecuteTime": {
     "end_time": "2019-12-24T09:25:22.069447Z",
     "start_time": "2019-12-24T08:58:55.165Z"
    }
   },
   "outputs": [],
   "source": [
    "def label_encode(le, labels):\n",
    "    enc = le.transform(labels)\n",
    "    return keras.utils.to_categorical(enc)\n",
    "\n",
    "def label_decode(le, one_hot_label):\n",
    "    dec = np.argmax(one_hot_label, axis=1)\n",
    "    return le.inverse_transform(dec)\n",
    "\n",
    "y_train = label_encode(label_encoder, y_train)\n",
    "y_test = label_encode(label_encoder, y_test)\n",
    "\n",
    "print('\\n\\n## After convert')\n",
    "print('y_train[0:7]:\\n', y_train[0:7])\n",
    "print('\\ny_train.shape: ', y_train.shape)\n",
    "print('y_test.shape: ', y_test.shape)"
   ]
  },
  {
   "cell_type": "code",
   "execution_count": null,
   "metadata": {
    "ExecuteTime": {
     "end_time": "2019-12-24T09:25:22.070064Z",
     "start_time": "2019-12-24T08:58:55.316Z"
    }
   },
   "outputs": [],
   "source": [
    "# I/O check\n",
    "input_shape = X_train.shape[1]\n",
    "print('input_shape: ', input_shape)\n",
    "\n",
    "output_shape = len(label_encoder.classes_)\n",
    "print('output_shape: ', output_shape)"
   ]
  },
  {
   "cell_type": "code",
   "execution_count": null,
   "metadata": {
    "ExecuteTime": {
     "end_time": "2019-12-24T09:25:22.070886Z",
     "start_time": "2019-12-24T08:58:56.089Z"
    }
   },
   "outputs": [],
   "source": [
    "from keras.models import Model\n",
    "from keras.layers import Input, Dense\n",
    "from keras.layers import ReLU, Softmax\n",
    "\n",
    "# input layer\n",
    "model_input = Input(shape=(input_shape, ))  # 5000\n",
    "X = model_input\n",
    "\n",
    "# 1st hidden layer\n",
    "X_W1 = Dense(units=64)(X)  # 64\n",
    "H1 = ReLU()(X_W1)\n",
    "\n",
    "# 2nd hidden layer\n",
    "H1_W2 = Dense(units=64)(H1)  # 64\n",
    "H2 = ReLU()(H1_W2)\n",
    "\n",
    "\n",
    "\n",
    "# output layer\n",
    "H2_W3 = Dense(units=output_shape)(H2)  # 8\n",
    "H3 = Softmax()(H2_W3)\n",
    "\n",
    "model_output = H3\n",
    "\n",
    "# create model\n",
    "model = Model(inputs=[model_input], outputs=[model_output])\n",
    "\n",
    "# loss function & optimizer\n",
    "model.compile(optimizer='adam',\n",
    "              loss='categorical_crossentropy',\n",
    "              metrics=['accuracy'])\n",
    "\n",
    "# show model construction\n",
    "model.summary()"
   ]
  },
  {
   "cell_type": "code",
   "execution_count": null,
   "metadata": {
    "ExecuteTime": {
     "end_time": "2019-12-24T09:25:22.071364Z",
     "start_time": "2019-12-24T08:58:56.507Z"
    }
   },
   "outputs": [],
   "source": [
    "from keras.callbacks import CSVLogger\n",
    "\n",
    "csv_logger = CSVLogger('logs/training_log_prototype.csv')\n",
    "\n",
    "# training setting\n",
    "epochs = 25\n",
    "batch_size = 1000\n",
    "\n",
    "# training!\n",
    "history = model.fit(X_train, y_train, \n",
    "                    epochs=epochs, \n",
    "                    batch_size=batch_size, \n",
    "                    callbacks=[csv_logger],\n",
    "                    validation_data = (X_test, y_test))\n",
    "print('training finish')"
   ]
  },
  {
   "cell_type": "code",
   "execution_count": null,
   "metadata": {
    "ExecuteTime": {
     "end_time": "2019-12-24T09:25:22.072083Z",
     "start_time": "2019-12-24T08:58:56.989Z"
    }
   },
   "outputs": [],
   "source": [
    "## predict\n",
    "pred_result = model.predict(X_test, batch_size=128)"
   ]
  },
  {
   "cell_type": "code",
   "execution_count": null,
   "metadata": {
    "ExecuteTime": {
     "end_time": "2019-12-24T09:25:22.072641Z",
     "start_time": "2019-12-24T08:58:57.329Z"
    }
   },
   "outputs": [],
   "source": [
    "pred_result = label_decode(label_encoder, pred_result)\n",
    "from sklearn.metrics import accuracy_score\n",
    "\n",
    "print('testing accuracy: {}'.format(round(accuracy_score(label_decode(label_encoder, y_test), pred_result), 2)))"
   ]
  },
  {
   "cell_type": "code",
   "execution_count": null,
   "metadata": {
    "ExecuteTime": {
     "end_time": "2019-12-24T09:25:22.073201Z",
     "start_time": "2019-12-24T08:58:57.515Z"
    }
   },
   "outputs": [],
   "source": [
    "pred = model.predict(tfidf_vectorizer.transform(tests['text']), batch_size = 128)\n",
    "pred = label_decode(label_encoder, pred) \n",
    "# print('testing accuracy: {}'.format(round(accuracy_score(label_decode(label_encoder, tests.emotion), pred), 2)))"
   ]
  },
  {
   "cell_type": "code",
   "execution_count": null,
   "metadata": {
    "ExecuteTime": {
     "end_time": "2019-12-24T09:25:22.073718Z",
     "start_time": "2019-12-24T08:58:57.889Z"
    }
   },
   "outputs": [],
   "source": [
    "tests['emotion'] = pred\n",
    "tests['id'] = tests['tweet_id']\n",
    "tests.to_csv('output_2.csv', columns=['id', 'emotion'], index=False)"
   ]
  },
  {
   "cell_type": "markdown",
   "metadata": {},
   "source": [
    "# LSTM\n",
    "\n",
    "LSTM should be better than Deep learning in my opinion.\n",
    "However, it didn't perform well. I think the lack of preprocessing and the unsuitable LSTM dimension selection cause the result only get 0.30778 score in public."
   ]
  },
  {
   "cell_type": "code",
   "execution_count": null,
   "metadata": {
    "ExecuteTime": {
     "end_time": "2019-12-24T09:25:22.074331Z",
     "start_time": "2019-12-24T08:58:58.632Z"
    }
   },
   "outputs": [],
   "source": [
    "import pandas as pd\n",
    "import numpy as np\n",
    "import json\n",
    "from pandas.io.json import json_normalize\n",
    "import re, csv\n",
    "from nltk.corpus import stopwords\n",
    "import nltk\n",
    "import string\n",
    "from nltk import word_tokenize\n",
    "from gensim.models import KeyedVectors   \n",
    "from sklearn.preprocessing import LabelEncoder\n",
    "from nltk.corpus import stopwords\n",
    "from sklearn.feature_extraction.text import TfidfVectorizer\n",
    "from nltk.tokenize import TweetTokenizer\n",
    "\n",
    "\n",
    "import keras\n",
    "from keras.models import Model\n",
    "from keras.layers import Input, Dense\n",
    "from keras.layers import ReLU, Softmax\n",
    "from keras.callbacks import CSVLogger\n",
    "\n",
    "import keras\n",
    "from keras.models import Sequential, load_model\n",
    "from keras.layers import Dense, LSTM, Dropout\n",
    "from keras.layers import Embedding\n",
    "from keras.layers import Bidirectional\n",
    "# from keras.preprocessing import sequence\n",
    "from keras.preprocessing.sequence import pad_sequences\n",
    "from keras.preprocessing.text import Tokenizer\n",
    "from keras.preprocessing.text import tokenizer_from_json\n",
    "from keras.utils import to_categorical\n",
    "from keras.initializers import Constant"
   ]
  },
  {
   "cell_type": "code",
   "execution_count": null,
   "metadata": {
    "ExecuteTime": {
     "end_time": "2019-12-24T09:25:22.074893Z",
     "start_time": "2019-12-24T08:58:58.865Z"
    }
   },
   "outputs": [],
   "source": [
    "## load a pickle file\n",
    "import pandas as pd\n",
    "trains = pd.read_pickle(\"train_df_Hsiao.pkl\")\n",
    "tests = pd.read_pickle(\"test_df_Hsiao.pkl\")"
   ]
  },
  {
   "cell_type": "code",
   "execution_count": null,
   "metadata": {
    "ExecuteTime": {
     "end_time": "2019-12-24T09:25:22.075489Z",
     "start_time": "2019-12-24T08:58:59.457Z"
    }
   },
   "outputs": [],
   "source": [
    "tknr = Tokenizer(num_words=None, \n",
    "               filters='!\"#$%&()*+,-./:;<=>?@[\\]^_`{|}~ ', \n",
    "               lower=True, \n",
    "               split=' ', \n",
    "               char_level=False, \n",
    "               oov_token=None, \n",
    "               document_count=0)"
   ]
  },
  {
   "cell_type": "code",
   "execution_count": null,
   "metadata": {
    "ExecuteTime": {
     "end_time": "2019-12-24T09:25:22.076115Z",
     "start_time": "2019-12-24T08:58:59.745Z"
    }
   },
   "outputs": [],
   "source": [
    "tknzr = TweetTokenizer()\n",
    "# TF-IDF\n",
    "MAX_WORD = 15000\n",
    "\n",
    "\n",
    "tfidf_vectorizer = TfidfVectorizer(\n",
    "    max_features=MAX_WORD, \n",
    "    use_idf=True, \n",
    "    token_pattern='(?u)\\\\b[^\\\\d\\\\W][^\\\\d\\\\W]+\\\\b', \n",
    "#     tokenizer=tknzr.tokenize,\n",
    "#     stop_words=stopwords.words('english')\n",
    "    )\n",
    "tfidf_vectorizer.fit(trains['text'])"
   ]
  },
  {
   "cell_type": "code",
   "execution_count": null,
   "metadata": {
    "ExecuteTime": {
     "end_time": "2019-12-24T09:25:22.076675Z",
     "start_time": "2019-12-24T08:59:00.329Z"
    }
   },
   "outputs": [],
   "source": [
    "token_dict = {}\n",
    "for idx, token in enumerate(tfidf_vectorizer.get_feature_names()):\n",
    "    token_dict[token] = idx"
   ]
  },
  {
   "cell_type": "code",
   "execution_count": null,
   "metadata": {
    "ExecuteTime": {
     "end_time": "2019-12-24T09:25:22.077227Z",
     "start_time": "2019-12-24T08:59:00.988Z"
    }
   },
   "outputs": [],
   "source": [
    "EMBEDDING_DIM = 300\n",
    "# MAX_WORD = 5000\n",
    "def word2vec_matrix():\n",
    "#     token_dict = tknr.word_index()\n",
    "    matrix_emb = np.zeros((len(token_dict)+1, EMBEDDING_DIM)) # replace MAX_WORD to len(token_dict)\n",
    "    for word, idx in token_dict.items():\n",
    "        try:\n",
    "            vector =  word2vec_model.wv[word]\n",
    "        except:\n",
    "            vector = np.zeros(300,)\n",
    "#         if idx < MAX_WORD and vector:\n",
    "        if idx < MAX_WORD:\n",
    "            matrix_emb[idx] = np.array(vector)\n",
    "    matrix_emb[MAX_WORD] = np.zeros(300,)     \n",
    "    return matrix_emb"
   ]
  },
  {
   "cell_type": "code",
   "execution_count": null,
   "metadata": {
    "ExecuteTime": {
     "end_time": "2019-12-24T09:25:22.077924Z",
     "start_time": "2019-12-24T08:59:01.309Z"
    }
   },
   "outputs": [],
   "source": [
    "MAX_SEQUENCE_LENGTH = 50\n",
    "\n",
    "def text_to_sequence(texts):\n",
    "    tokenized_texts = []\n",
    "    for string in texts:\n",
    "        tokenized_text = []\n",
    "        for idx, word in enumerate(string.split(' ')):\n",
    "            \n",
    "            # truncate\n",
    "            if idx >= MAX_SEQUENCE_LENGTH: break \n",
    "                \n",
    "            try:\n",
    "                token = token_dict[word.lower()]\n",
    "            except:\n",
    "                token = MAX_WORD\n",
    "            tokenized_text.append(token)\n",
    "            \n",
    "        # padding \n",
    "        if len(tokenized_text) < MAX_SEQUENCE_LENGTH: \n",
    "#             print(len(tokenized_text))\n",
    "            tokenized_text.extend([MAX_WORD]*(MAX_SEQUENCE_LENGTH-len(tokenized_text)))\n",
    "                \n",
    "        tokenized_texts.append(tokenized_text)\n",
    "    \n",
    "\n",
    "#     print(max([len(texts) for texts in tokenized_texts]))\n",
    "    return np.array(tokenized_texts)"
   ]
  },
  {
   "cell_type": "code",
   "execution_count": null,
   "metadata": {
    "ExecuteTime": {
     "end_time": "2019-12-24T09:25:22.078560Z",
     "start_time": "2019-12-24T08:59:01.975Z"
    }
   },
   "outputs": [],
   "source": [
    "emotion_array = ['joy', 'sadness', 'trust', 'anticipation', 'fear', 'anger', 'disgust', 'surprise']"
   ]
  },
  {
   "cell_type": "code",
   "execution_count": null,
   "metadata": {
    "ExecuteTime": {
     "end_time": "2019-12-24T09:25:22.079099Z",
     "start_time": "2019-12-24T08:59:02.182Z"
    }
   },
   "outputs": [],
   "source": [
    "def emotion_to_sequence(emotions):\n",
    "    tokenized_emotions = []\n",
    "    for string in emotions:\n",
    "        token = emotion_array.index(string)\n",
    "#         print(token)\n",
    "        tokenized_emotions.append(token)\n",
    "    return to_categorical(tokenized_emotions)"
   ]
  },
  {
   "cell_type": "code",
   "execution_count": null,
   "metadata": {
    "ExecuteTime": {
     "end_time": "2019-12-24T09:25:22.079654Z",
     "start_time": "2019-12-24T08:59:02.372Z"
    }
   },
   "outputs": [],
   "source": [
    "train_sequence = text_to_sequence(trains['text'])\n",
    "train_label = emotion_to_sequence(trains['emotion'])"
   ]
  },
  {
   "cell_type": "code",
   "execution_count": null,
   "metadata": {
    "ExecuteTime": {
     "end_time": "2019-12-24T09:25:22.080192Z",
     "start_time": "2019-12-24T08:59:02.564Z"
    }
   },
   "outputs": [],
   "source": [
    "text_sequence = text_to_sequence(tests['text'])"
   ]
  },
  {
   "cell_type": "code",
   "execution_count": null,
   "metadata": {
    "ExecuteTime": {
     "end_time": "2019-12-24T09:25:22.080749Z",
     "start_time": "2019-12-24T08:59:03.098Z"
    }
   },
   "outputs": [],
   "source": [
    "from sklearn.metrics import accuracy_score\n",
    "\n",
    "LSTM1_DIM = 100\n",
    "LSTM2_DIM = 200\n",
    "DENSE1_DIM = 200\n",
    "DENSE2_DIM = 200\n",
    "CATEGORY_NUM = 8\n",
    "BATCH_SIZE = 4096\n",
    "VALIDATION_SPLIT = 0.2\n",
    "EPOCHS = 10\n",
    "\n",
    "csv_logger = CSVLogger('logs/training_log_30.csv')\n",
    "                    \n",
    "\n",
    "def model_setting(texts, labels, matrix_emb=\"uniform\"):\n",
    "    #######################################\n",
    "    # build up the model \n",
    "    # input: texts (dataframe), labels (dataframe), embedding matrix (np array), model name (str)\n",
    "    # output: None\n",
    "    #######################################\n",
    "    \n",
    "    import numpy as np\n",
    "    import pandas as pd\n",
    "    DROPOUT = 0.1\n",
    "    \n",
    "    if matrix_emb != \"uniform\": matrix_emb = Constant(matrix_emb)\n",
    "        \n",
    "#     split data to train & validation\n",
    "    validation_size = int(texts.shape[0]*VALIDATION_SPLIT)\n",
    "    texts_train = texts[:-validation_size]\n",
    "    texts_val = texts[-validation_size:]\n",
    "    labels_train = labels[:-validation_size]\n",
    "    labels_val = labels[-validation_size:]\n",
    "    \n",
    "    # model build\n",
    "    model = Sequential()\n",
    "#     model.add(Dropout(0.1, input_shape=(MAX_SEQUENCE_LENGTH,)))\n",
    "    model.add(Embedding(MAX_WORD+1, EMBEDDING_DIM, embeddings_initializer=matrix_emb, input_length=MAX_SEQUENCE_LENGTH, trainable=False)) # with embedding matrix\n",
    "#     model.add(Embedding(MAX_WORD, EMBEDDING_DIM, input_length=MAX_SEQUENCE_LENGTH)) # without embedding matrix\n",
    "#     model.add(LSTM(LSTM1_DIM, dropout=DROPOUT, recurrent_dropout=DROPOUT, return_sequences=True))\n",
    "    model.add(LSTM(LSTM1_DIM, dropout=DROPOUT, recurrent_dropout=DROPOUT, return_sequences=False))\n",
    "\n",
    "#     model.add(Bidirectional(LSTM(LSTM1_DIM, dropout=DROPOUT, recurrent_dropout=DROPOUT)))\n",
    "#     model.add(LSTM(LSTM2_DIM, dropout=DROPOUT, recurrent_dropout=DROPOUT))\n",
    "#     model.add(Bidirectional(LSTM(LSTM2_DIM)))\n",
    "    model.add(Dense(DENSE1_DIM, kernel_initializer='normal', activation='relu'))\n",
    "    model.add(Dense(DENSE2_DIM, kernel_initializer='normal', activation='relu'))\n",
    "    model.add(Dense(CATEGORY_NUM, kernel_initializer='normal', activation='softmax'))\n",
    "    model.compile(loss=\"categorical_crossentropy\", optimizer=\"nadam\", metrics=[\"accuracy\"])\n",
    "    model.summary()\n",
    "\n",
    "    \n",
    "    history_callback = model.fit(\n",
    "        texts_train, \n",
    "        labels_train, \n",
    "        epochs=EPOCHS, \n",
    "        batch_size=BATCH_SIZE, \n",
    "        callbacks=[csv_logger],\n",
    "        verbose=1, \n",
    "        shuffle=True, \n",
    "        validation_data=(texts_val, labels_val))\n",
    "\n",
    "\n",
    "\n",
    "    #print('testing accuracy: {}'.format(round(accuracy_score(label_decode(label_encoder, y_test), pred_result), 2)))\n",
    "    \n",
    "    \n",
    "    return history_callback, model"
   ]
  },
  {
   "cell_type": "code",
   "execution_count": null,
   "metadata": {
    "ExecuteTime": {
     "end_time": "2019-12-24T09:25:22.081430Z",
     "start_time": "2019-12-24T08:59:03.804Z"
    }
   },
   "outputs": [],
   "source": [
    "history_callback, mymodel = model_setting(train_sequence, train_label, word2vec_matrix())"
   ]
  },
  {
   "cell_type": "code",
   "execution_count": null,
   "metadata": {
    "ExecuteTime": {
     "end_time": "2019-12-24T09:25:22.081993Z",
     "start_time": "2019-12-24T08:59:04.014Z"
    }
   },
   "outputs": [],
   "source": [
    "## predict\n",
    "    \n",
    "pred_result = mymodel.predict(text_sequence, batch_size=128)\n"
   ]
  },
  {
   "cell_type": "code",
   "execution_count": null,
   "metadata": {
    "ExecuteTime": {
     "end_time": "2019-12-24T09:25:22.082501Z",
     "start_time": "2019-12-24T08:59:04.218Z"
    }
   },
   "outputs": [],
   "source": [
    "pred_result = np.argmax(pred_result, axis=1)"
   ]
  },
  {
   "cell_type": "code",
   "execution_count": null,
   "metadata": {
    "ExecuteTime": {
     "end_time": "2019-12-24T09:25:22.083093Z",
     "start_time": "2019-12-24T08:59:04.739Z"
    }
   },
   "outputs": [],
   "source": [
    "results = [emotion_array[i]  for i in pred_result]\n",
    "pred = tests\n",
    "pred['emotion'] = results\n",
    "pred = pred.drop('hashtags', axis=1)\n",
    "pred = pred.drop('text', axis=1)\n",
    "pred = pred.drop('identification', axis=1)\n",
    "pred.rename(columns={'tweet_id':'id'}, inplace=True)\n",
    "pred.head()\n",
    "pred.to_csv('output_LSMT.csv', index=False)"
   ]
  },
  {
   "cell_type": "code",
   "execution_count": null,
   "metadata": {},
   "outputs": [],
   "source": []
  },
  {
   "cell_type": "code",
   "execution_count": null,
   "metadata": {},
   "outputs": [],
   "source": []
  },
  {
   "cell_type": "code",
   "execution_count": null,
   "metadata": {},
   "outputs": [],
   "source": []
  }
 ],
 "metadata": {
  "kernelspec": {
   "display_name": "Python 3",
   "language": "python",
   "name": "python3"
  },
  "language_info": {
   "codemirror_mode": {
    "name": "ipython",
    "version": 3
   },
   "file_extension": ".py",
   "mimetype": "text/x-python",
   "name": "python",
   "nbconvert_exporter": "python",
   "pygments_lexer": "ipython3",
   "version": "3.6.7"
  },
  "varInspector": {
   "cols": {
    "lenName": 16,
    "lenType": 16,
    "lenVar": 40
   },
   "kernels_config": {
    "python": {
     "delete_cmd_postfix": "",
     "delete_cmd_prefix": "del ",
     "library": "var_list.py",
     "varRefreshCmd": "print(var_dic_list())"
    },
    "r": {
     "delete_cmd_postfix": ") ",
     "delete_cmd_prefix": "rm(",
     "library": "var_list.r",
     "varRefreshCmd": "cat(var_dic_list()) "
    }
   },
   "types_to_exclude": [
    "module",
    "function",
    "builtin_function_or_method",
    "instance",
    "_Feature"
   ],
   "window_display": false
  }
 },
 "nbformat": 4,
 "nbformat_minor": 2
}
